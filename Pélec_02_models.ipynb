{
 "cells": [
  {
   "cell_type": "markdown",
   "metadata": {},
   "source": [
    "**Commentaire**\n",
    "\n",
    "Les temps total écoulé de 25~30 minutes peut varier d'un ordinateur à l'autre. Avant d'exécuter les algorithmes, prenez en comme paramètre de base que le hardware utilisé est le suivant :\n",
    "\n",
    "- Intel i7-8750H @2.20GHz (boost @4.10GHz) avec 6 coeurs et 12 threads\n",
    "- 32GB ram DDR4 @2667MHz\n",
    "\n",
    "Aucun GPU boost n'est utilisé."
   ]
  },
  {
   "cell_type": "markdown",
   "metadata": {},
   "source": [
    "# Modèles"
   ]
  },
  {
   "cell_type": "code",
   "execution_count": 1,
   "metadata": {},
   "outputs": [],
   "source": [
    "import pandas as pd\n",
    "import numpy as np\n",
    "import matplotlib.pyplot as plt\n",
    "import seaborn as sns\n",
    "%matplotlib inline\n",
    "\n",
    "import warnings\n",
    "warnings.filterwarnings('ignore')"
   ]
  },
  {
   "cell_type": "markdown",
   "metadata": {},
   "source": [
    "## Data import"
   ]
  },
  {
   "cell_type": "code",
   "execution_count": 2,
   "metadata": {},
   "outputs": [],
   "source": [
    "data = pd.read_csv('data_cleaned.csv',sep='\\t',encoding='utf-8')\n",
    "pd.set_option('display.max_columns', None)\n",
    "pd.set_option('display.max_rows', None)"
   ]
  },
  {
   "cell_type": "code",
   "execution_count": 3,
   "metadata": {},
   "outputs": [
    {
     "data": {
      "text/html": [
       "<div>\n",
       "<style scoped>\n",
       "    .dataframe tbody tr th:only-of-type {\n",
       "        vertical-align: middle;\n",
       "    }\n",
       "\n",
       "    .dataframe tbody tr th {\n",
       "        vertical-align: top;\n",
       "    }\n",
       "\n",
       "    .dataframe thead th {\n",
       "        text-align: right;\n",
       "    }\n",
       "</style>\n",
       "<table border=\"1\" class=\"dataframe\">\n",
       "  <thead>\n",
       "    <tr style=\"text-align: right;\">\n",
       "      <th></th>\n",
       "      <th>DataYear</th>\n",
       "      <th>BuildingType</th>\n",
       "      <th>PrimaryPropertyType</th>\n",
       "      <th>YearBuilt</th>\n",
       "      <th>NumberofBuildings</th>\n",
       "      <th>NumberofFloors</th>\n",
       "      <th>PropertyGFATotal</th>\n",
       "      <th>PropertyGFAParking</th>\n",
       "      <th>PropertyGFABuilding(s)</th>\n",
       "      <th>LargestPropertyUseType</th>\n",
       "      <th>LargestPropertyUseTypeGFA</th>\n",
       "      <th>SecondLargestPropertyUseType</th>\n",
       "      <th>SecondLargestPropertyUseTypeGFA</th>\n",
       "      <th>ThirdLargestPropertyUseType</th>\n",
       "      <th>ThirdLargestPropertyUseTypeGFA</th>\n",
       "      <th>ENERGYSTARScore</th>\n",
       "      <th>SiteEUI(kBtu/sf)</th>\n",
       "      <th>SiteEUIWN(kBtu/sf)</th>\n",
       "      <th>SourceEUI(kBtu/sf)</th>\n",
       "      <th>SourceEUIWN(kBtu/sf)</th>\n",
       "      <th>SiteEnergyUse(kBtu)</th>\n",
       "      <th>SiteEnergyUseWN(kBtu)</th>\n",
       "      <th>SteamUse(kBtu)</th>\n",
       "      <th>Electricity(kBtu)</th>\n",
       "      <th>NaturalGas(kBtu)</th>\n",
       "      <th>DefaultData</th>\n",
       "      <th>ComplianceStatus</th>\n",
       "      <th>Latitude</th>\n",
       "      <th>Longitude</th>\n",
       "      <th>GHGEmissionsIntensity</th>\n",
       "      <th>TotalGHGEmissions</th>\n",
       "      <th>GFA</th>\n",
       "      <th>Age</th>\n",
       "      <th>SiteEnergyUse(kBtu)_log2p</th>\n",
       "      <th>TotalGHGEmissions_log2</th>\n",
       "    </tr>\n",
       "  </thead>\n",
       "  <tbody>\n",
       "    <tr>\n",
       "      <th>0</th>\n",
       "      <td>2015</td>\n",
       "      <td>NonResidential</td>\n",
       "      <td>Lodging</td>\n",
       "      <td>1927</td>\n",
       "      <td>12.0</td>\n",
       "      <td>12.0</td>\n",
       "      <td>88434</td>\n",
       "      <td>0</td>\n",
       "      <td>88434</td>\n",
       "      <td>Lodging</td>\n",
       "      <td>88434.0</td>\n",
       "      <td>noInfo</td>\n",
       "      <td>0.0</td>\n",
       "      <td>noInfo</td>\n",
       "      <td>0.0</td>\n",
       "      <td>65.0</td>\n",
       "      <td>78.9</td>\n",
       "      <td>80.3</td>\n",
       "      <td>173.5</td>\n",
       "      <td>175.1</td>\n",
       "      <td>6981428.0</td>\n",
       "      <td>7097539.0</td>\n",
       "      <td>2023032.0</td>\n",
       "      <td>3686160.0</td>\n",
       "      <td>1272388.0</td>\n",
       "      <td>No</td>\n",
       "      <td>Compliant</td>\n",
       "      <td>47.612190</td>\n",
       "      <td>-122.337997</td>\n",
       "      <td>2.64</td>\n",
       "      <td>249.43</td>\n",
       "      <td>614.125000</td>\n",
       "      <td>88</td>\n",
       "      <td>22.735091</td>\n",
       "      <td>7.962491</td>\n",
       "    </tr>\n",
       "    <tr>\n",
       "      <th>1</th>\n",
       "      <td>2015</td>\n",
       "      <td>NonResidential</td>\n",
       "      <td>Lodging</td>\n",
       "      <td>1996</td>\n",
       "      <td>11.0</td>\n",
       "      <td>11.0</td>\n",
       "      <td>103566</td>\n",
       "      <td>15064</td>\n",
       "      <td>88502</td>\n",
       "      <td>Lodging</td>\n",
       "      <td>83880.0</td>\n",
       "      <td>Other</td>\n",
       "      <td>15064.0</td>\n",
       "      <td>Food</td>\n",
       "      <td>4622.0</td>\n",
       "      <td>51.0</td>\n",
       "      <td>94.4</td>\n",
       "      <td>99.0</td>\n",
       "      <td>191.3</td>\n",
       "      <td>195.2</td>\n",
       "      <td>8354235.0</td>\n",
       "      <td>8765788.0</td>\n",
       "      <td>0.0</td>\n",
       "      <td>3905411.0</td>\n",
       "      <td>4448985.0</td>\n",
       "      <td>No</td>\n",
       "      <td>Compliant</td>\n",
       "      <td>47.613106</td>\n",
       "      <td>-122.333358</td>\n",
       "      <td>2.38</td>\n",
       "      <td>263.51</td>\n",
       "      <td>855.917355</td>\n",
       "      <td>19</td>\n",
       "      <td>22.994076</td>\n",
       "      <td>8.041714</td>\n",
       "    </tr>\n",
       "    <tr>\n",
       "      <th>2</th>\n",
       "      <td>2015</td>\n",
       "      <td>NonResidential</td>\n",
       "      <td>Lodging</td>\n",
       "      <td>1969</td>\n",
       "      <td>41.0</td>\n",
       "      <td>41.0</td>\n",
       "      <td>961990</td>\n",
       "      <td>0</td>\n",
       "      <td>961990</td>\n",
       "      <td>Lodging</td>\n",
       "      <td>757243.0</td>\n",
       "      <td>Other</td>\n",
       "      <td>100000.0</td>\n",
       "      <td>Entertainment</td>\n",
       "      <td>0.0</td>\n",
       "      <td>18.0</td>\n",
       "      <td>96.6</td>\n",
       "      <td>99.7</td>\n",
       "      <td>242.7</td>\n",
       "      <td>246.5</td>\n",
       "      <td>73130656.0</td>\n",
       "      <td>75506272.0</td>\n",
       "      <td>19660404.0</td>\n",
       "      <td>49762435.0</td>\n",
       "      <td>3709900.0</td>\n",
       "      <td>Yes</td>\n",
       "      <td>Compliant</td>\n",
       "      <td>47.613349</td>\n",
       "      <td>-122.337699</td>\n",
       "      <td>1.92</td>\n",
       "      <td>2061.48</td>\n",
       "      <td>572.272457</td>\n",
       "      <td>46</td>\n",
       "      <td>26.123973</td>\n",
       "      <td>11.009465</td>\n",
       "    </tr>\n",
       "    <tr>\n",
       "      <th>3</th>\n",
       "      <td>2015</td>\n",
       "      <td>NonResidential</td>\n",
       "      <td>Lodging</td>\n",
       "      <td>1926</td>\n",
       "      <td>10.0</td>\n",
       "      <td>10.0</td>\n",
       "      <td>61320</td>\n",
       "      <td>0</td>\n",
       "      <td>61320</td>\n",
       "      <td>Lodging</td>\n",
       "      <td>61320.0</td>\n",
       "      <td>noInfo</td>\n",
       "      <td>0.0</td>\n",
       "      <td>noInfo</td>\n",
       "      <td>0.0</td>\n",
       "      <td>1.0</td>\n",
       "      <td>460.4</td>\n",
       "      <td>462.5</td>\n",
       "      <td>636.3</td>\n",
       "      <td>643.2</td>\n",
       "      <td>28229320.0</td>\n",
       "      <td>28363444.0</td>\n",
       "      <td>23458518.0</td>\n",
       "      <td>2769023.0</td>\n",
       "      <td>2001894.0</td>\n",
       "      <td>No</td>\n",
       "      <td>Compliant</td>\n",
       "      <td>47.614216</td>\n",
       "      <td>-122.336609</td>\n",
       "      <td>31.38</td>\n",
       "      <td>1936.34</td>\n",
       "      <td>613.200000</td>\n",
       "      <td>89</td>\n",
       "      <td>24.750691</td>\n",
       "      <td>10.919117</td>\n",
       "    </tr>\n",
       "    <tr>\n",
       "      <th>4</th>\n",
       "      <td>2015</td>\n",
       "      <td>NonResidential</td>\n",
       "      <td>Lodging</td>\n",
       "      <td>1980</td>\n",
       "      <td>18.0</td>\n",
       "      <td>18.0</td>\n",
       "      <td>119890</td>\n",
       "      <td>12460</td>\n",
       "      <td>107430</td>\n",
       "      <td>Lodging</td>\n",
       "      <td>123445.0</td>\n",
       "      <td>Other</td>\n",
       "      <td>68009.0</td>\n",
       "      <td>Entertainment</td>\n",
       "      <td>0.0</td>\n",
       "      <td>67.0</td>\n",
       "      <td>120.1</td>\n",
       "      <td>122.1</td>\n",
       "      <td>228.8</td>\n",
       "      <td>227.1</td>\n",
       "      <td>14829099.0</td>\n",
       "      <td>15078243.0</td>\n",
       "      <td>0.0</td>\n",
       "      <td>6066245.0</td>\n",
       "      <td>8763105.0</td>\n",
       "      <td>No</td>\n",
       "      <td>Compliant</td>\n",
       "      <td>47.613754</td>\n",
       "      <td>-122.340924</td>\n",
       "      <td>4.02</td>\n",
       "      <td>507.70</td>\n",
       "      <td>370.030864</td>\n",
       "      <td>35</td>\n",
       "      <td>23.821928</td>\n",
       "      <td>8.987832</td>\n",
       "    </tr>\n",
       "  </tbody>\n",
       "</table>\n",
       "</div>"
      ],
      "text/plain": [
       "   DataYear    BuildingType PrimaryPropertyType  YearBuilt  NumberofBuildings  \\\n",
       "0      2015  NonResidential             Lodging       1927               12.0   \n",
       "1      2015  NonResidential             Lodging       1996               11.0   \n",
       "2      2015  NonResidential             Lodging       1969               41.0   \n",
       "3      2015  NonResidential             Lodging       1926               10.0   \n",
       "4      2015  NonResidential             Lodging       1980               18.0   \n",
       "\n",
       "   NumberofFloors  PropertyGFATotal  PropertyGFAParking  \\\n",
       "0            12.0             88434                   0   \n",
       "1            11.0            103566               15064   \n",
       "2            41.0            961990                   0   \n",
       "3            10.0             61320                   0   \n",
       "4            18.0            119890               12460   \n",
       "\n",
       "   PropertyGFABuilding(s) LargestPropertyUseType  LargestPropertyUseTypeGFA  \\\n",
       "0                   88434                Lodging                    88434.0   \n",
       "1                   88502                Lodging                    83880.0   \n",
       "2                  961990                Lodging                   757243.0   \n",
       "3                   61320                Lodging                    61320.0   \n",
       "4                  107430                Lodging                   123445.0   \n",
       "\n",
       "  SecondLargestPropertyUseType  SecondLargestPropertyUseTypeGFA  \\\n",
       "0                       noInfo                              0.0   \n",
       "1                        Other                          15064.0   \n",
       "2                        Other                         100000.0   \n",
       "3                       noInfo                              0.0   \n",
       "4                        Other                          68009.0   \n",
       "\n",
       "  ThirdLargestPropertyUseType  ThirdLargestPropertyUseTypeGFA  \\\n",
       "0                      noInfo                             0.0   \n",
       "1                        Food                          4622.0   \n",
       "2               Entertainment                             0.0   \n",
       "3                      noInfo                             0.0   \n",
       "4               Entertainment                             0.0   \n",
       "\n",
       "   ENERGYSTARScore  SiteEUI(kBtu/sf)  SiteEUIWN(kBtu/sf)  SourceEUI(kBtu/sf)  \\\n",
       "0             65.0              78.9                80.3               173.5   \n",
       "1             51.0              94.4                99.0               191.3   \n",
       "2             18.0              96.6                99.7               242.7   \n",
       "3              1.0             460.4               462.5               636.3   \n",
       "4             67.0             120.1               122.1               228.8   \n",
       "\n",
       "   SourceEUIWN(kBtu/sf)  SiteEnergyUse(kBtu)  SiteEnergyUseWN(kBtu)  \\\n",
       "0                 175.1            6981428.0              7097539.0   \n",
       "1                 195.2            8354235.0              8765788.0   \n",
       "2                 246.5           73130656.0             75506272.0   \n",
       "3                 643.2           28229320.0             28363444.0   \n",
       "4                 227.1           14829099.0             15078243.0   \n",
       "\n",
       "   SteamUse(kBtu)  Electricity(kBtu)  NaturalGas(kBtu) DefaultData  \\\n",
       "0       2023032.0          3686160.0         1272388.0          No   \n",
       "1             0.0          3905411.0         4448985.0          No   \n",
       "2      19660404.0         49762435.0         3709900.0         Yes   \n",
       "3      23458518.0          2769023.0         2001894.0          No   \n",
       "4             0.0          6066245.0         8763105.0          No   \n",
       "\n",
       "  ComplianceStatus   Latitude   Longitude  GHGEmissionsIntensity  \\\n",
       "0        Compliant  47.612190 -122.337997                   2.64   \n",
       "1        Compliant  47.613106 -122.333358                   2.38   \n",
       "2        Compliant  47.613349 -122.337699                   1.92   \n",
       "3        Compliant  47.614216 -122.336609                  31.38   \n",
       "4        Compliant  47.613754 -122.340924                   4.02   \n",
       "\n",
       "   TotalGHGEmissions         GFA  Age  SiteEnergyUse(kBtu)_log2p  \\\n",
       "0             249.43  614.125000   88                  22.735091   \n",
       "1             263.51  855.917355   19                  22.994076   \n",
       "2            2061.48  572.272457   46                  26.123973   \n",
       "3            1936.34  613.200000   89                  24.750691   \n",
       "4             507.70  370.030864   35                  23.821928   \n",
       "\n",
       "   TotalGHGEmissions_log2  \n",
       "0                7.962491  \n",
       "1                8.041714  \n",
       "2               11.009465  \n",
       "3               10.919117  \n",
       "4                8.987832  "
      ]
     },
     "execution_count": 3,
     "metadata": {},
     "output_type": "execute_result"
    }
   ],
   "source": [
    "data.head()"
   ]
  },
  {
   "cell_type": "code",
   "execution_count": 4,
   "metadata": {},
   "outputs": [
    {
     "name": "stdout",
     "output_type": "stream",
     "text": [
      "<class 'pandas.core.frame.DataFrame'>\n",
      "RangeIndex: 4896 entries, 0 to 4895\n",
      "Data columns (total 35 columns):\n",
      " #   Column                           Non-Null Count  Dtype  \n",
      "---  ------                           --------------  -----  \n",
      " 0   DataYear                         4896 non-null   int64  \n",
      " 1   BuildingType                     4896 non-null   object \n",
      " 2   PrimaryPropertyType              4896 non-null   object \n",
      " 3   YearBuilt                        4896 non-null   int64  \n",
      " 4   NumberofBuildings                4896 non-null   float64\n",
      " 5   NumberofFloors                   4896 non-null   float64\n",
      " 6   PropertyGFATotal                 4896 non-null   int64  \n",
      " 7   PropertyGFAParking               4896 non-null   int64  \n",
      " 8   PropertyGFABuilding(s)           4896 non-null   int64  \n",
      " 9   LargestPropertyUseType           4896 non-null   object \n",
      " 10  LargestPropertyUseTypeGFA        4896 non-null   float64\n",
      " 11  SecondLargestPropertyUseType     4896 non-null   object \n",
      " 12  SecondLargestPropertyUseTypeGFA  4896 non-null   float64\n",
      " 13  ThirdLargestPropertyUseType      4896 non-null   object \n",
      " 14  ThirdLargestPropertyUseTypeGFA   4896 non-null   float64\n",
      " 15  ENERGYSTARScore                  4896 non-null   float64\n",
      " 16  SiteEUI(kBtu/sf)                 4896 non-null   float64\n",
      " 17  SiteEUIWN(kBtu/sf)               4896 non-null   float64\n",
      " 18  SourceEUI(kBtu/sf)               4896 non-null   float64\n",
      " 19  SourceEUIWN(kBtu/sf)             4896 non-null   float64\n",
      " 20  SiteEnergyUse(kBtu)              4896 non-null   float64\n",
      " 21  SiteEnergyUseWN(kBtu)            4896 non-null   float64\n",
      " 22  SteamUse(kBtu)                   4896 non-null   float64\n",
      " 23  Electricity(kBtu)                4896 non-null   float64\n",
      " 24  NaturalGas(kBtu)                 4896 non-null   float64\n",
      " 25  DefaultData                      4896 non-null   object \n",
      " 26  ComplianceStatus                 4896 non-null   object \n",
      " 27  Latitude                         4896 non-null   float64\n",
      " 28  Longitude                        4896 non-null   float64\n",
      " 29  GHGEmissionsIntensity            4896 non-null   float64\n",
      " 30  TotalGHGEmissions                4896 non-null   float64\n",
      " 31  GFA                              4896 non-null   float64\n",
      " 32  Age                              4896 non-null   int64  \n",
      " 33  SiteEnergyUse(kBtu)_log2p        4896 non-null   float64\n",
      " 34  TotalGHGEmissions_log2           4896 non-null   float64\n",
      "dtypes: float64(22), int64(6), object(7)\n",
      "memory usage: 1.3+ MB\n"
     ]
    }
   ],
   "source": [
    "data.info()"
   ]
  },
  {
   "cell_type": "markdown",
   "metadata": {},
   "source": [
    "**Variables à prédire**\n",
    "- SiteEnergyUse(kBtu) -> consommation totale d'énergie\n",
    "- TotalGHGEmissions -> émissions de CO2\n",
    "\n",
    "Nous allons utiliser les features sélectionnées sur le fichier Pélec_01_nettoyage."
   ]
  },
  {
   "cell_type": "code",
   "execution_count": 5,
   "metadata": {},
   "outputs": [],
   "source": [
    "%store -r exportFeatures"
   ]
  },
  {
   "cell_type": "code",
   "execution_count": 6,
   "metadata": {},
   "outputs": [
    {
     "data": {
      "text/html": [
       "<div>\n",
       "<style scoped>\n",
       "    .dataframe tbody tr th:only-of-type {\n",
       "        vertical-align: middle;\n",
       "    }\n",
       "\n",
       "    .dataframe tbody tr th {\n",
       "        vertical-align: top;\n",
       "    }\n",
       "\n",
       "    .dataframe thead th {\n",
       "        text-align: right;\n",
       "    }\n",
       "</style>\n",
       "<table border=\"1\" class=\"dataframe\">\n",
       "  <thead>\n",
       "    <tr style=\"text-align: right;\">\n",
       "      <th></th>\n",
       "      <th>Feature</th>\n",
       "      <th>Pearson</th>\n",
       "      <th>Chi2</th>\n",
       "      <th>RFE</th>\n",
       "      <th>Logistics_L1</th>\n",
       "      <th>Logistics_L2</th>\n",
       "      <th>DTC</th>\n",
       "      <th>Random_Forest</th>\n",
       "      <th>Total</th>\n",
       "    </tr>\n",
       "  </thead>\n",
       "  <tbody>\n",
       "    <tr>\n",
       "      <th>1</th>\n",
       "      <td>YearBuilt</td>\n",
       "      <td>False</td>\n",
       "      <td>False</td>\n",
       "      <td>True</td>\n",
       "      <td>True</td>\n",
       "      <td>True</td>\n",
       "      <td>True</td>\n",
       "      <td>True</td>\n",
       "      <td>5</td>\n",
       "    </tr>\n",
       "    <tr>\n",
       "      <th>2</th>\n",
       "      <td>PropertyGFATotal</td>\n",
       "      <td>True</td>\n",
       "      <td>True</td>\n",
       "      <td>True</td>\n",
       "      <td>False</td>\n",
       "      <td>False</td>\n",
       "      <td>True</td>\n",
       "      <td>True</td>\n",
       "      <td>5</td>\n",
       "    </tr>\n",
       "    <tr>\n",
       "      <th>3</th>\n",
       "      <td>PropertyGFABuilding(s)</td>\n",
       "      <td>True</td>\n",
       "      <td>True</td>\n",
       "      <td>True</td>\n",
       "      <td>False</td>\n",
       "      <td>False</td>\n",
       "      <td>True</td>\n",
       "      <td>True</td>\n",
       "      <td>5</td>\n",
       "    </tr>\n",
       "    <tr>\n",
       "      <th>4</th>\n",
       "      <td>LargestPropertyUseTypeGFA</td>\n",
       "      <td>True</td>\n",
       "      <td>True</td>\n",
       "      <td>True</td>\n",
       "      <td>False</td>\n",
       "      <td>False</td>\n",
       "      <td>True</td>\n",
       "      <td>True</td>\n",
       "      <td>5</td>\n",
       "    </tr>\n",
       "    <tr>\n",
       "      <th>5</th>\n",
       "      <td>Electricity(kBtu)</td>\n",
       "      <td>True</td>\n",
       "      <td>True</td>\n",
       "      <td>True</td>\n",
       "      <td>False</td>\n",
       "      <td>False</td>\n",
       "      <td>True</td>\n",
       "      <td>True</td>\n",
       "      <td>5</td>\n",
       "    </tr>\n",
       "    <tr>\n",
       "      <th>6</th>\n",
       "      <td>SecondLargestPropertyUseTypeGFA</td>\n",
       "      <td>True</td>\n",
       "      <td>True</td>\n",
       "      <td>False</td>\n",
       "      <td>False</td>\n",
       "      <td>False</td>\n",
       "      <td>True</td>\n",
       "      <td>True</td>\n",
       "      <td>4</td>\n",
       "    </tr>\n",
       "    <tr>\n",
       "      <th>7</th>\n",
       "      <td>Longitude</td>\n",
       "      <td>False</td>\n",
       "      <td>False</td>\n",
       "      <td>True</td>\n",
       "      <td>True</td>\n",
       "      <td>False</td>\n",
       "      <td>True</td>\n",
       "      <td>True</td>\n",
       "      <td>4</td>\n",
       "    </tr>\n",
       "    <tr>\n",
       "      <th>8</th>\n",
       "      <td>Latitude</td>\n",
       "      <td>False</td>\n",
       "      <td>False</td>\n",
       "      <td>True</td>\n",
       "      <td>True</td>\n",
       "      <td>False</td>\n",
       "      <td>True</td>\n",
       "      <td>True</td>\n",
       "      <td>4</td>\n",
       "    </tr>\n",
       "    <tr>\n",
       "      <th>9</th>\n",
       "      <td>Age</td>\n",
       "      <td>False</td>\n",
       "      <td>False</td>\n",
       "      <td>True</td>\n",
       "      <td>False</td>\n",
       "      <td>True</td>\n",
       "      <td>True</td>\n",
       "      <td>True</td>\n",
       "      <td>4</td>\n",
       "    </tr>\n",
       "    <tr>\n",
       "      <th>10</th>\n",
       "      <td>GFA</td>\n",
       "      <td>False</td>\n",
       "      <td>False</td>\n",
       "      <td>True</td>\n",
       "      <td>False</td>\n",
       "      <td>False</td>\n",
       "      <td>True</td>\n",
       "      <td>True</td>\n",
       "      <td>3</td>\n",
       "    </tr>\n",
       "    <tr>\n",
       "      <th>11</th>\n",
       "      <td>BuildingType_NonResidential</td>\n",
       "      <td>False</td>\n",
       "      <td>True</td>\n",
       "      <td>False</td>\n",
       "      <td>True</td>\n",
       "      <td>True</td>\n",
       "      <td>False</td>\n",
       "      <td>False</td>\n",
       "      <td>3</td>\n",
       "    </tr>\n",
       "    <tr>\n",
       "      <th>12</th>\n",
       "      <td>BuildingType_Multifamily LR (1-4)</td>\n",
       "      <td>True</td>\n",
       "      <td>True</td>\n",
       "      <td>False</td>\n",
       "      <td>False</td>\n",
       "      <td>True</td>\n",
       "      <td>False</td>\n",
       "      <td>False</td>\n",
       "      <td>3</td>\n",
       "    </tr>\n",
       "  </tbody>\n",
       "</table>\n",
       "</div>"
      ],
      "text/plain": [
       "                              Feature  Pearson   Chi2    RFE  Logistics_L1  \\\n",
       "1                           YearBuilt    False  False   True          True   \n",
       "2                    PropertyGFATotal     True   True   True         False   \n",
       "3              PropertyGFABuilding(s)     True   True   True         False   \n",
       "4           LargestPropertyUseTypeGFA     True   True   True         False   \n",
       "5                   Electricity(kBtu)     True   True   True         False   \n",
       "6     SecondLargestPropertyUseTypeGFA     True   True  False         False   \n",
       "7                           Longitude    False  False   True          True   \n",
       "8                            Latitude    False  False   True          True   \n",
       "9                                 Age    False  False   True         False   \n",
       "10                                GFA    False  False   True         False   \n",
       "11        BuildingType_NonResidential    False   True  False          True   \n",
       "12  BuildingType_Multifamily LR (1-4)     True   True  False         False   \n",
       "\n",
       "    Logistics_L2    DTC  Random_Forest  Total  \n",
       "1           True   True           True      5  \n",
       "2          False   True           True      5  \n",
       "3          False   True           True      5  \n",
       "4          False   True           True      5  \n",
       "5          False   True           True      5  \n",
       "6          False   True           True      4  \n",
       "7          False   True           True      4  \n",
       "8          False   True           True      4  \n",
       "9           True   True           True      4  \n",
       "10         False   True           True      3  \n",
       "11          True  False          False      3  \n",
       "12          True  False          False      3  "
      ]
     },
     "execution_count": 6,
     "metadata": {},
     "output_type": "execute_result"
    }
   ],
   "source": [
    "exportFeatures"
   ]
  },
  {
   "cell_type": "code",
   "execution_count": 7,
   "metadata": {},
   "outputs": [],
   "source": [
    "exportFeatures_ES = exportFeatures.copy()\n",
    "exportFeatures_ES.loc[13,'Feature'] = 'ENERGYSTARScore'\n",
    "\n",
    "varsCols = exportFeatures['Feature'].tolist()\n",
    "varsCols_ES = exportFeatures_ES['Feature'].tolist()"
   ]
  },
  {
   "cell_type": "markdown",
   "metadata": {},
   "source": [
    "## Preparation des données"
   ]
  },
  {
   "cell_type": "markdown",
   "metadata": {},
   "source": [
    "On fait le même traitement de normalisation et sélection des features que lors du nettoyage."
   ]
  },
  {
   "cell_type": "code",
   "execution_count": 8,
   "metadata": {},
   "outputs": [],
   "source": [
    "energyStarScore = data['ENERGYSTARScore']"
   ]
  },
  {
   "cell_type": "code",
   "execution_count": 9,
   "metadata": {},
   "outputs": [
    {
     "data": {
      "text/plain": [
       "(4896, 35)"
      ]
     },
     "execution_count": 9,
     "metadata": {},
     "output_type": "execute_result"
    }
   ],
   "source": [
    "data.shape"
   ]
  },
  {
   "cell_type": "code",
   "execution_count": 10,
   "metadata": {},
   "outputs": [],
   "source": [
    "y = data.copy()[{'TotalGHGEmissions','SiteEnergyUse(kBtu)'}].reset_index(drop=True)\n",
    "y['SiteEnergyUse(kBtu)_log2p'] = np.log2(1+y['SiteEnergyUse(kBtu)'])\n",
    "y['TotalGHGEmissions_log2'] = np.log2(y['TotalGHGEmissions'])"
   ]
  },
  {
   "cell_type": "code",
   "execution_count": 11,
   "metadata": {},
   "outputs": [],
   "source": [
    "X = data.drop(['DataYear', \n",
    "               #'ENERGYSTARScore', \n",
    "               'TotalGHGEmissions', \n",
    "               'SiteEnergyUse(kBtu)', \n",
    "               'SiteEnergyUse(kBtu)_log2p', \n",
    "               'TotalGHGEmissions_log2', \n",
    "               'GHGEmissionsIntensity', \n",
    "               'SiteEnergyUseWN(kBtu)', \n",
    "               'DefaultData', \n",
    "               'SourceEUI(kBtu/sf)',\n",
    "               'SourceEUIWN(kBtu/sf)', \n",
    "               'SiteEUIWN(kBtu/sf)', \n",
    "               'SiteEUI(kBtu/sf)', \n",
    "               'SteamUse(kBtu)', \n",
    "               'NaturalGas(kBtu)'], axis=1)\n",
    "\n",
    "X['Longitude'] = X['Longitude'].abs()"
   ]
  },
  {
   "cell_type": "code",
   "execution_count": 12,
   "metadata": {},
   "outputs": [
    {
     "data": {
      "text/plain": [
       "['BuildingType',\n",
       " 'PrimaryPropertyType',\n",
       " 'LargestPropertyUseType',\n",
       " 'SecondLargestPropertyUseType',\n",
       " 'ThirdLargestPropertyUseType',\n",
       " 'ComplianceStatus']"
      ]
     },
     "execution_count": 12,
     "metadata": {},
     "output_type": "execute_result"
    }
   ],
   "source": [
    "to_categorical = X.select_dtypes(['object','category']).keys()\n",
    "list(to_categorical)"
   ]
  },
  {
   "cell_type": "code",
   "execution_count": 13,
   "metadata": {},
   "outputs": [
    {
     "data": {
      "text/html": [
       "<div>\n",
       "<style scoped>\n",
       "    .dataframe tbody tr th:only-of-type {\n",
       "        vertical-align: middle;\n",
       "    }\n",
       "\n",
       "    .dataframe tbody tr th {\n",
       "        vertical-align: top;\n",
       "    }\n",
       "\n",
       "    .dataframe thead th {\n",
       "        text-align: right;\n",
       "    }\n",
       "</style>\n",
       "<table border=\"1\" class=\"dataframe\">\n",
       "  <thead>\n",
       "    <tr style=\"text-align: right;\">\n",
       "      <th></th>\n",
       "      <th>YearBuilt</th>\n",
       "      <th>NumberofBuildings</th>\n",
       "      <th>NumberofFloors</th>\n",
       "      <th>PropertyGFATotal</th>\n",
       "      <th>PropertyGFAParking</th>\n",
       "      <th>PropertyGFABuilding(s)</th>\n",
       "      <th>LargestPropertyUseTypeGFA</th>\n",
       "      <th>SecondLargestPropertyUseTypeGFA</th>\n",
       "      <th>ThirdLargestPropertyUseTypeGFA</th>\n",
       "      <th>ENERGYSTARScore</th>\n",
       "      <th>Electricity(kBtu)</th>\n",
       "      <th>Latitude</th>\n",
       "      <th>Longitude</th>\n",
       "      <th>GFA</th>\n",
       "      <th>Age</th>\n",
       "      <th>BuildingType_Campus</th>\n",
       "      <th>BuildingType_Multifamily HR (10+)</th>\n",
       "      <th>BuildingType_Multifamily LR (1-4)</th>\n",
       "      <th>BuildingType_Multifamily MR (5-9)</th>\n",
       "      <th>BuildingType_NonResidential</th>\n",
       "      <th>BuildingType_Nonresidential COS</th>\n",
       "      <th>BuildingType_SPS-District K-12</th>\n",
       "      <th>PrimaryPropertyType_Education</th>\n",
       "      <th>PrimaryPropertyType_Healthcare</th>\n",
       "      <th>PrimaryPropertyType_Industrial</th>\n",
       "      <th>PrimaryPropertyType_Lodging</th>\n",
       "      <th>PrimaryPropertyType_Office</th>\n",
       "      <th>PrimaryPropertyType_Other</th>\n",
       "      <th>PrimaryPropertyType_PublicService</th>\n",
       "      <th>PrimaryPropertyType_Retail</th>\n",
       "      <th>LargestPropertyUseType_Education</th>\n",
       "      <th>LargestPropertyUseType_Food</th>\n",
       "      <th>LargestPropertyUseType_Healthcare</th>\n",
       "      <th>LargestPropertyUseType_Industrial</th>\n",
       "      <th>LargestPropertyUseType_Lodging</th>\n",
       "      <th>LargestPropertyUseType_Office</th>\n",
       "      <th>LargestPropertyUseType_Other</th>\n",
       "      <th>LargestPropertyUseType_PublicService</th>\n",
       "      <th>LargestPropertyUseType_Retail</th>\n",
       "      <th>SecondLargestPropertyUseType_Education</th>\n",
       "      <th>SecondLargestPropertyUseType_Entertainment</th>\n",
       "      <th>SecondLargestPropertyUseType_Food</th>\n",
       "      <th>SecondLargestPropertyUseType_Healthcare</th>\n",
       "      <th>SecondLargestPropertyUseType_Industrial</th>\n",
       "      <th>SecondLargestPropertyUseType_Lodging</th>\n",
       "      <th>SecondLargestPropertyUseType_Office</th>\n",
       "      <th>SecondLargestPropertyUseType_Other</th>\n",
       "      <th>SecondLargestPropertyUseType_PublicService</th>\n",
       "      <th>SecondLargestPropertyUseType_Retail</th>\n",
       "      <th>SecondLargestPropertyUseType_noInfo</th>\n",
       "      <th>ThirdLargestPropertyUseType_Education</th>\n",
       "      <th>ThirdLargestPropertyUseType_Entertainment</th>\n",
       "      <th>ThirdLargestPropertyUseType_Food</th>\n",
       "      <th>ThirdLargestPropertyUseType_Healthcare</th>\n",
       "      <th>ThirdLargestPropertyUseType_Industrial</th>\n",
       "      <th>ThirdLargestPropertyUseType_Lodging</th>\n",
       "      <th>ThirdLargestPropertyUseType_Office</th>\n",
       "      <th>ThirdLargestPropertyUseType_Other</th>\n",
       "      <th>ThirdLargestPropertyUseType_PublicService</th>\n",
       "      <th>ThirdLargestPropertyUseType_Retail</th>\n",
       "      <th>ThirdLargestPropertyUseType_noInfo</th>\n",
       "      <th>ComplianceStatus_Compliant</th>\n",
       "      <th>ComplianceStatus_Error - Correct Default Data</th>\n",
       "      <th>ComplianceStatus_Non-Compliant</th>\n",
       "    </tr>\n",
       "  </thead>\n",
       "  <tbody>\n",
       "    <tr>\n",
       "      <th>0</th>\n",
       "      <td>1927</td>\n",
       "      <td>12.0</td>\n",
       "      <td>12.0</td>\n",
       "      <td>88434</td>\n",
       "      <td>0</td>\n",
       "      <td>88434</td>\n",
       "      <td>88434.0</td>\n",
       "      <td>0.0</td>\n",
       "      <td>0.0</td>\n",
       "      <td>65.0</td>\n",
       "      <td>3686160.0</td>\n",
       "      <td>47.612190</td>\n",
       "      <td>122.337997</td>\n",
       "      <td>614.125000</td>\n",
       "      <td>88</td>\n",
       "      <td>0</td>\n",
       "      <td>0</td>\n",
       "      <td>0</td>\n",
       "      <td>0</td>\n",
       "      <td>1</td>\n",
       "      <td>0</td>\n",
       "      <td>0</td>\n",
       "      <td>0</td>\n",
       "      <td>0</td>\n",
       "      <td>0</td>\n",
       "      <td>1</td>\n",
       "      <td>0</td>\n",
       "      <td>0</td>\n",
       "      <td>0</td>\n",
       "      <td>0</td>\n",
       "      <td>0</td>\n",
       "      <td>0</td>\n",
       "      <td>0</td>\n",
       "      <td>0</td>\n",
       "      <td>1</td>\n",
       "      <td>0</td>\n",
       "      <td>0</td>\n",
       "      <td>0</td>\n",
       "      <td>0</td>\n",
       "      <td>0</td>\n",
       "      <td>0</td>\n",
       "      <td>0</td>\n",
       "      <td>0</td>\n",
       "      <td>0</td>\n",
       "      <td>0</td>\n",
       "      <td>0</td>\n",
       "      <td>0</td>\n",
       "      <td>0</td>\n",
       "      <td>0</td>\n",
       "      <td>1</td>\n",
       "      <td>0</td>\n",
       "      <td>0</td>\n",
       "      <td>0</td>\n",
       "      <td>0</td>\n",
       "      <td>0</td>\n",
       "      <td>0</td>\n",
       "      <td>0</td>\n",
       "      <td>0</td>\n",
       "      <td>0</td>\n",
       "      <td>0</td>\n",
       "      <td>1</td>\n",
       "      <td>1</td>\n",
       "      <td>0</td>\n",
       "      <td>0</td>\n",
       "    </tr>\n",
       "    <tr>\n",
       "      <th>1</th>\n",
       "      <td>1996</td>\n",
       "      <td>11.0</td>\n",
       "      <td>11.0</td>\n",
       "      <td>103566</td>\n",
       "      <td>15064</td>\n",
       "      <td>88502</td>\n",
       "      <td>83880.0</td>\n",
       "      <td>15064.0</td>\n",
       "      <td>4622.0</td>\n",
       "      <td>51.0</td>\n",
       "      <td>3905411.0</td>\n",
       "      <td>47.613106</td>\n",
       "      <td>122.333358</td>\n",
       "      <td>855.917355</td>\n",
       "      <td>19</td>\n",
       "      <td>0</td>\n",
       "      <td>0</td>\n",
       "      <td>0</td>\n",
       "      <td>0</td>\n",
       "      <td>1</td>\n",
       "      <td>0</td>\n",
       "      <td>0</td>\n",
       "      <td>0</td>\n",
       "      <td>0</td>\n",
       "      <td>0</td>\n",
       "      <td>1</td>\n",
       "      <td>0</td>\n",
       "      <td>0</td>\n",
       "      <td>0</td>\n",
       "      <td>0</td>\n",
       "      <td>0</td>\n",
       "      <td>0</td>\n",
       "      <td>0</td>\n",
       "      <td>0</td>\n",
       "      <td>1</td>\n",
       "      <td>0</td>\n",
       "      <td>0</td>\n",
       "      <td>0</td>\n",
       "      <td>0</td>\n",
       "      <td>0</td>\n",
       "      <td>0</td>\n",
       "      <td>0</td>\n",
       "      <td>0</td>\n",
       "      <td>0</td>\n",
       "      <td>0</td>\n",
       "      <td>0</td>\n",
       "      <td>1</td>\n",
       "      <td>0</td>\n",
       "      <td>0</td>\n",
       "      <td>0</td>\n",
       "      <td>0</td>\n",
       "      <td>0</td>\n",
       "      <td>1</td>\n",
       "      <td>0</td>\n",
       "      <td>0</td>\n",
       "      <td>0</td>\n",
       "      <td>0</td>\n",
       "      <td>0</td>\n",
       "      <td>0</td>\n",
       "      <td>0</td>\n",
       "      <td>0</td>\n",
       "      <td>1</td>\n",
       "      <td>0</td>\n",
       "      <td>0</td>\n",
       "    </tr>\n",
       "    <tr>\n",
       "      <th>2</th>\n",
       "      <td>1969</td>\n",
       "      <td>41.0</td>\n",
       "      <td>41.0</td>\n",
       "      <td>961990</td>\n",
       "      <td>0</td>\n",
       "      <td>961990</td>\n",
       "      <td>757243.0</td>\n",
       "      <td>100000.0</td>\n",
       "      <td>0.0</td>\n",
       "      <td>18.0</td>\n",
       "      <td>49762435.0</td>\n",
       "      <td>47.613349</td>\n",
       "      <td>122.337699</td>\n",
       "      <td>572.272457</td>\n",
       "      <td>46</td>\n",
       "      <td>0</td>\n",
       "      <td>0</td>\n",
       "      <td>0</td>\n",
       "      <td>0</td>\n",
       "      <td>1</td>\n",
       "      <td>0</td>\n",
       "      <td>0</td>\n",
       "      <td>0</td>\n",
       "      <td>0</td>\n",
       "      <td>0</td>\n",
       "      <td>1</td>\n",
       "      <td>0</td>\n",
       "      <td>0</td>\n",
       "      <td>0</td>\n",
       "      <td>0</td>\n",
       "      <td>0</td>\n",
       "      <td>0</td>\n",
       "      <td>0</td>\n",
       "      <td>0</td>\n",
       "      <td>1</td>\n",
       "      <td>0</td>\n",
       "      <td>0</td>\n",
       "      <td>0</td>\n",
       "      <td>0</td>\n",
       "      <td>0</td>\n",
       "      <td>0</td>\n",
       "      <td>0</td>\n",
       "      <td>0</td>\n",
       "      <td>0</td>\n",
       "      <td>0</td>\n",
       "      <td>0</td>\n",
       "      <td>1</td>\n",
       "      <td>0</td>\n",
       "      <td>0</td>\n",
       "      <td>0</td>\n",
       "      <td>0</td>\n",
       "      <td>1</td>\n",
       "      <td>0</td>\n",
       "      <td>0</td>\n",
       "      <td>0</td>\n",
       "      <td>0</td>\n",
       "      <td>0</td>\n",
       "      <td>0</td>\n",
       "      <td>0</td>\n",
       "      <td>0</td>\n",
       "      <td>0</td>\n",
       "      <td>1</td>\n",
       "      <td>0</td>\n",
       "      <td>0</td>\n",
       "    </tr>\n",
       "  </tbody>\n",
       "</table>\n",
       "</div>"
      ],
      "text/plain": [
       "   YearBuilt  NumberofBuildings  NumberofFloors  PropertyGFATotal  \\\n",
       "0       1927               12.0            12.0             88434   \n",
       "1       1996               11.0            11.0            103566   \n",
       "2       1969               41.0            41.0            961990   \n",
       "\n",
       "   PropertyGFAParking  PropertyGFABuilding(s)  LargestPropertyUseTypeGFA  \\\n",
       "0                   0                   88434                    88434.0   \n",
       "1               15064                   88502                    83880.0   \n",
       "2                   0                  961990                   757243.0   \n",
       "\n",
       "   SecondLargestPropertyUseTypeGFA  ThirdLargestPropertyUseTypeGFA  \\\n",
       "0                              0.0                             0.0   \n",
       "1                          15064.0                          4622.0   \n",
       "2                         100000.0                             0.0   \n",
       "\n",
       "   ENERGYSTARScore  Electricity(kBtu)   Latitude   Longitude         GFA  Age  \\\n",
       "0             65.0          3686160.0  47.612190  122.337997  614.125000   88   \n",
       "1             51.0          3905411.0  47.613106  122.333358  855.917355   19   \n",
       "2             18.0         49762435.0  47.613349  122.337699  572.272457   46   \n",
       "\n",
       "   BuildingType_Campus  BuildingType_Multifamily HR (10+)  \\\n",
       "0                    0                                  0   \n",
       "1                    0                                  0   \n",
       "2                    0                                  0   \n",
       "\n",
       "   BuildingType_Multifamily LR (1-4)  BuildingType_Multifamily MR (5-9)  \\\n",
       "0                                  0                                  0   \n",
       "1                                  0                                  0   \n",
       "2                                  0                                  0   \n",
       "\n",
       "   BuildingType_NonResidential  BuildingType_Nonresidential COS  \\\n",
       "0                            1                                0   \n",
       "1                            1                                0   \n",
       "2                            1                                0   \n",
       "\n",
       "   BuildingType_SPS-District K-12  PrimaryPropertyType_Education  \\\n",
       "0                               0                              0   \n",
       "1                               0                              0   \n",
       "2                               0                              0   \n",
       "\n",
       "   PrimaryPropertyType_Healthcare  PrimaryPropertyType_Industrial  \\\n",
       "0                               0                               0   \n",
       "1                               0                               0   \n",
       "2                               0                               0   \n",
       "\n",
       "   PrimaryPropertyType_Lodging  PrimaryPropertyType_Office  \\\n",
       "0                            1                           0   \n",
       "1                            1                           0   \n",
       "2                            1                           0   \n",
       "\n",
       "   PrimaryPropertyType_Other  PrimaryPropertyType_PublicService  \\\n",
       "0                          0                                  0   \n",
       "1                          0                                  0   \n",
       "2                          0                                  0   \n",
       "\n",
       "   PrimaryPropertyType_Retail  LargestPropertyUseType_Education  \\\n",
       "0                           0                                 0   \n",
       "1                           0                                 0   \n",
       "2                           0                                 0   \n",
       "\n",
       "   LargestPropertyUseType_Food  LargestPropertyUseType_Healthcare  \\\n",
       "0                            0                                  0   \n",
       "1                            0                                  0   \n",
       "2                            0                                  0   \n",
       "\n",
       "   LargestPropertyUseType_Industrial  LargestPropertyUseType_Lodging  \\\n",
       "0                                  0                               1   \n",
       "1                                  0                               1   \n",
       "2                                  0                               1   \n",
       "\n",
       "   LargestPropertyUseType_Office  LargestPropertyUseType_Other  \\\n",
       "0                              0                             0   \n",
       "1                              0                             0   \n",
       "2                              0                             0   \n",
       "\n",
       "   LargestPropertyUseType_PublicService  LargestPropertyUseType_Retail  \\\n",
       "0                                     0                              0   \n",
       "1                                     0                              0   \n",
       "2                                     0                              0   \n",
       "\n",
       "   SecondLargestPropertyUseType_Education  \\\n",
       "0                                       0   \n",
       "1                                       0   \n",
       "2                                       0   \n",
       "\n",
       "   SecondLargestPropertyUseType_Entertainment  \\\n",
       "0                                           0   \n",
       "1                                           0   \n",
       "2                                           0   \n",
       "\n",
       "   SecondLargestPropertyUseType_Food  SecondLargestPropertyUseType_Healthcare  \\\n",
       "0                                  0                                        0   \n",
       "1                                  0                                        0   \n",
       "2                                  0                                        0   \n",
       "\n",
       "   SecondLargestPropertyUseType_Industrial  \\\n",
       "0                                        0   \n",
       "1                                        0   \n",
       "2                                        0   \n",
       "\n",
       "   SecondLargestPropertyUseType_Lodging  SecondLargestPropertyUseType_Office  \\\n",
       "0                                     0                                    0   \n",
       "1                                     0                                    0   \n",
       "2                                     0                                    0   \n",
       "\n",
       "   SecondLargestPropertyUseType_Other  \\\n",
       "0                                   0   \n",
       "1                                   1   \n",
       "2                                   1   \n",
       "\n",
       "   SecondLargestPropertyUseType_PublicService  \\\n",
       "0                                           0   \n",
       "1                                           0   \n",
       "2                                           0   \n",
       "\n",
       "   SecondLargestPropertyUseType_Retail  SecondLargestPropertyUseType_noInfo  \\\n",
       "0                                    0                                    1   \n",
       "1                                    0                                    0   \n",
       "2                                    0                                    0   \n",
       "\n",
       "   ThirdLargestPropertyUseType_Education  \\\n",
       "0                                      0   \n",
       "1                                      0   \n",
       "2                                      0   \n",
       "\n",
       "   ThirdLargestPropertyUseType_Entertainment  \\\n",
       "0                                          0   \n",
       "1                                          0   \n",
       "2                                          1   \n",
       "\n",
       "   ThirdLargestPropertyUseType_Food  ThirdLargestPropertyUseType_Healthcare  \\\n",
       "0                                 0                                       0   \n",
       "1                                 1                                       0   \n",
       "2                                 0                                       0   \n",
       "\n",
       "   ThirdLargestPropertyUseType_Industrial  \\\n",
       "0                                       0   \n",
       "1                                       0   \n",
       "2                                       0   \n",
       "\n",
       "   ThirdLargestPropertyUseType_Lodging  ThirdLargestPropertyUseType_Office  \\\n",
       "0                                    0                                   0   \n",
       "1                                    0                                   0   \n",
       "2                                    0                                   0   \n",
       "\n",
       "   ThirdLargestPropertyUseType_Other  \\\n",
       "0                                  0   \n",
       "1                                  0   \n",
       "2                                  0   \n",
       "\n",
       "   ThirdLargestPropertyUseType_PublicService  \\\n",
       "0                                          0   \n",
       "1                                          0   \n",
       "2                                          0   \n",
       "\n",
       "   ThirdLargestPropertyUseType_Retail  ThirdLargestPropertyUseType_noInfo  \\\n",
       "0                                   0                                   1   \n",
       "1                                   0                                   0   \n",
       "2                                   0                                   0   \n",
       "\n",
       "   ComplianceStatus_Compliant  ComplianceStatus_Error - Correct Default Data  \\\n",
       "0                           1                                              0   \n",
       "1                           1                                              0   \n",
       "2                           1                                              0   \n",
       "\n",
       "   ComplianceStatus_Non-Compliant  \n",
       "0                               0  \n",
       "1                               0  \n",
       "2                               0  "
      ]
     },
     "execution_count": 13,
     "metadata": {},
     "output_type": "execute_result"
    }
   ],
   "source": [
    "X = pd.get_dummies(data=X, columns=list(to_categorical))\n",
    "X.head(3)"
   ]
  },
  {
   "cell_type": "code",
   "execution_count": 14,
   "metadata": {},
   "outputs": [
    {
     "name": "stdout",
     "output_type": "stream",
     "text": [
      "(4896, 64) (4896, 4)\n"
     ]
    }
   ],
   "source": [
    "print(X.shape, y.shape)"
   ]
  },
  {
   "cell_type": "markdown",
   "metadata": {},
   "source": [
    "La modélisation sera réalisée sur quatre jeux de données :\n",
    "- Deux jeux de données X pour prédire la consommation énergétique y les émissions de CO2 avec et sans la colonne *ENERGYSTARScore*\n",
    "- Deux jeux de données Y, un assigné à *SiteEnergyUse(kBtu)_log2p* et l'autre assigné à *TotalGHGEmissions_log2*\n",
    "\n",
    "Notre objectif est de prouver que le feature ENERGYSTARScore n'est pas particulièrement intéressant pour prédire la consommation d'énergie et les émissions de CO2."
   ]
  },
  {
   "cell_type": "code",
   "execution_count": 15,
   "metadata": {},
   "outputs": [],
   "source": [
    "from sklearn.preprocessing import StandardScaler\n",
    "\n",
    "numCols = X[varsCols].select_dtypes(['int64', 'float64']).columns\n",
    "numCols_ES = X[varsCols_ES].select_dtypes(['int64', 'float64']).columns\n",
    "\n",
    "ss = StandardScaler()\n",
    "X[numCols_ES] = ss.fit_transform(X[numCols_ES])\n",
    "\n",
    "catCols = data.select_dtypes(['object', 'category']).columns\n",
    "df_ohe = pd.get_dummies(data=data[catCols], columns=list(catCols))\n",
    "X_fit = pd.merge(X[numCols_ES], df_ohe, left_index=True, right_index=True)\n",
    "X_fit.drop(list(set(X_fit.columns) - set(exportFeatures_ES['Feature'])), axis=1, inplace=True)"
   ]
  },
  {
   "cell_type": "code",
   "execution_count": 16,
   "metadata": {},
   "outputs": [],
   "source": [
    "from sklearn.model_selection import train_test_split\n",
    "\n",
    "X_train_ES, X_test_ES, y_train, y_test = train_test_split(X_fit, y, test_size=0.25, random_state=42)"
   ]
  },
  {
   "cell_type": "code",
   "execution_count": 17,
   "metadata": {},
   "outputs": [],
   "source": [
    "X_train = X_train_ES.drop('ENERGYSTARScore', axis=1)\n",
    "X_test = X_test_ES.drop('ENERGYSTARScore', axis=1)\n",
    "\n",
    "y_train_energy = y_train['SiteEnergyUse(kBtu)_log2p']\n",
    "y_test_energy = y_test['SiteEnergyUse(kBtu)_log2p']\n",
    "y_train_emissions = y_train['TotalGHGEmissions_log2']\n",
    "y_test_emissions = y_test['TotalGHGEmissions_log2']"
   ]
  },
  {
   "cell_type": "markdown",
   "metadata": {},
   "source": [
    "## Modélisation\n",
    "\n",
    "RMSE (Root Mean Squared Error), c'est la racine carrée de l'erreur quadratique moyenne. Le RMSE est une mesure des différences entre les valeurs prédites par un modèle ou un estimateur et les valeurs observées.\n",
    "\n",
    "Comme le RMSE a les mêmes unités que la quantité représentée sur l'axe verticale il est directement interprétable en termes d'unités de mesure et est donc une meilleure mesure de la qualité de l'ajustement qu'un coefficient de corrélation.\n",
    "\n",
    "Le RMSE est une mesure de la précision pour comparer les erreurs de prévision de différents modèles pour un ensemble de données particulier et non entre des ensembles de données, car elle dépend de l'échelle. Par conséquent, le RMSE est sensible aux valeurs aberrantes.\n",
    "\n",
    "Le RMSE est toujours non-négative et une valeur de 0 (presque impossible en pratique) indiquerait un ajustement parfait aux données. En général, un RMSE inférieur est meilleur qu'un plus élevé.\n",
    "\n",
    "RMSLE (Root Mean Squared Log Error), à différence du RMSE, cette métrique d'évaluation utilise le logarithme de les valeurs prédites et les valeurs observées. C'est cette petite différence qui donne à le RMSLE ses propriétés uniques :\n",
    "- Robustesse à l'effet des valeurs aberrantes : les valeurs aberrantes peut faire exploser le RMSE à une valeur très élevée. Mais, dans le cas du RMSLE, les valeurs aberrantes sont réduites, diminuant de façon considérable leur effet.\n",
    "- Erreur relative : à l'intérieur de la racine carrée du RMSLE, on constate qu'il s'agit fondamentalement d'une erreur relative de calcul. En raison de la propriété des logarithmes, le RMSLE peut être considéré comme une erreur d'erreur relative entre les valeurs prédites et les valeurs observées. La métrique RMSLE ne considère que l'erreur relative entre et les valeurs prédites et les valeurs observées et l'échelle de l'erreur n'est pas significative. D'autre part, la valeur RMSE augmente en amplitude si l'échelle d'erreur augmente.\n",
    "- Pénalité biaisée : Plus de pénalité est encourue lorsque la valeur prédite est inférieure à la valeur observée. En revanche, une pénalité moindre est encourue lorsque la valeur prédite est supérieure à la valeur observée. Cela est particulièrement utile pour les analyses où la sous-estimation de la variable cible n'est pas acceptable mais la surestimation peut être tolérée. "
   ]
  },
  {
   "cell_type": "markdown",
   "metadata": {},
   "source": [
    "### Time"
   ]
  },
  {
   "cell_type": "code",
   "execution_count": 18,
   "metadata": {},
   "outputs": [],
   "source": [
    "import time\n",
    "\n",
    "def elapsed_time(start, end):\n",
    "    hours, rem = divmod(end-start, 3600)\n",
    "    minutes, seconds = divmod(rem, 60)\n",
    "    print(\"Elapsed Time: {:0>2}:{:0>2}:{:05.2f}\"\n",
    "                .format(int(hours),int(minutes),seconds))"
   ]
  },
  {
   "cell_type": "code",
   "execution_count": 19,
   "metadata": {},
   "outputs": [],
   "source": [
    "start = time.time()"
   ]
  },
  {
   "cell_type": "markdown",
   "metadata": {},
   "source": [
    "### Linear Regression\n",
    "\n",
    "La régression linéaire ajuste un modèle linéaire avec des coefficients pour minimiser la somme résiduelle des carrés entre les cibles observées dans le jeu de données et les cibles prédites par l'approximation linéaire."
   ]
  },
  {
   "cell_type": "code",
   "execution_count": 20,
   "metadata": {},
   "outputs": [],
   "source": [
    "from sklearn.metrics import r2_score, mean_squared_error, mean_squared_log_error\n",
    "from sklearn import preprocessing, linear_model\n",
    "import math"
   ]
  },
  {
   "cell_type": "code",
   "execution_count": 21,
   "metadata": {},
   "outputs": [],
   "source": [
    "df_results = pd.DataFrame({})"
   ]
  },
  {
   "cell_type": "code",
   "execution_count": 22,
   "metadata": {},
   "outputs": [],
   "source": [
    "def predict(grid, X_train, y_train, X_test, y_test, WHAT):\n",
    "    Y_pred = grid.predict(X_test)\n",
    "    r2 = r2_score(y_test, Y_pred)\n",
    "    rmse = mean_squared_error(y_test, Y_pred)\n",
    "    rmsle = mean_squared_log_error(y_test, Y_pred)\n",
    "    print(\"Best r2-score\",WHAT,\":{:.4f}\".format(r2))\n",
    "    print(\"Sqrt RMSE\",WHAT,\": {:.4f}\".format(math.sqrt(rmse)))\n",
    "    print(\"Sqrt RMSLE\",WHAT,\": {:.4f}\".format(math.sqrt(rmsle)))\n",
    "    print('-'*30)\n",
    "    return r2,rmse,rmsle,Y_pred"
   ]
  },
  {
   "cell_type": "code",
   "execution_count": 23,
   "metadata": {},
   "outputs": [],
   "source": [
    "def dfResultsSet(df_results, r2, rmse, rmsle, model, predict, ES):\n",
    "    df_results = df_results.append(pd.DataFrame({\n",
    "        'Model':[model],\n",
    "        'Predict':[predict], \n",
    "        'ENERGYSTAR':[ES], \n",
    "        'Score_R2':[r2], \n",
    "        'Score_RMSE':[math.sqrt(rmse)],\n",
    "        'Score_RMSLE':[math.sqrt(rmsle)]}),\n",
    "                                   ignore_index=True)\n",
    "    return df_results"
   ]
  },
  {
   "cell_type": "code",
   "execution_count": 24,
   "metadata": {},
   "outputs": [],
   "source": [
    "def errorOverPrediction(what, energystar, y_test, Y_pred):\n",
    "    if energystar == 'no':\n",
    "        use_title = 'Error over predictions'\n",
    "    elif energystar == 'yes':\n",
    "        use_title = 'Error over predictions - ENERGYSTAR'\n",
    "    \n",
    "    if what == 'energy': \n",
    "        use = 'orange'\n",
    "        use_xlabel = 'Energy tests in kBtu'\n",
    "        use_ylabel = 'Energy Predictions in kBtu'\n",
    "    elif what == 'emissions': \n",
    "        use = 'blue'\n",
    "        use_xlabel = 'Emissions tests'\n",
    "        use_ylabel = 'Emissions Predictions'\n",
    "    \n",
    "    plt.figure(figsize = (5,5))\n",
    "    plt.title(use_title)    \n",
    "    plt.scatter(y_test.values, Y_pred, color=use)\n",
    "    plt.xlabel(use_xlabel)\n",
    "    plt.ylabel(use_ylabel)\n",
    "    axes = plt.gca() \n",
    "    axes.set_xlim(0, max(max(y_test.values), max(Y_pred)))\n",
    "    axes.set_ylim(0, max(max(y_test.values), max(Y_pred)))\n",
    "    plt.show()"
   ]
  },
  {
   "cell_type": "code",
   "execution_count": 25,
   "metadata": {},
   "outputs": [],
   "source": [
    "clf_energy = linear_model.LinearRegression().fit(X_train, y_train_energy)\n",
    "clf_energy_ES = linear_model.LinearRegression().fit(X_train_ES, y_train_energy)\n",
    "clf_emissions = linear_model.LinearRegression().fit(X_train, y_train_emissions)\n",
    "clf_emissions_ES = linear_model.LinearRegression().fit(X_train_ES, y_train_emissions)"
   ]
  },
  {
   "cell_type": "code",
   "execution_count": 26,
   "metadata": {},
   "outputs": [
    {
     "name": "stdout",
     "output_type": "stream",
     "text": [
      "Best r2-score Energy :0.6093\n",
      "Sqrt RMSE Energy : 1.0264\n",
      "Sqrt RMSLE Energy : 0.0455\n",
      "------------------------------\n",
      "Best r2-score Energy (ENERGYSTARScore) :0.6530\n",
      "Sqrt RMSE Energy (ENERGYSTARScore) : 0.9673\n",
      "Sqrt RMSLE Energy (ENERGYSTARScore) : 0.0427\n",
      "------------------------------\n",
      "Best r2-score Energy :0.4414\n",
      "Sqrt RMSE Energy : 1.5871\n",
      "Sqrt RMSLE Energy : 0.3037\n",
      "------------------------------\n",
      "Best r2-score Energy (ENERGYSTARScore) :0.4697\n",
      "Sqrt RMSE Energy (ENERGYSTARScore) : 1.5464\n",
      "Sqrt RMSLE Energy (ENERGYSTARScore) : 0.2956\n",
      "------------------------------\n"
     ]
    }
   ],
   "source": [
    "r2_energy, rmse_energy, rmsle_energy, Y_pred_energy = predict(clf_energy, \n",
    "                                                              X_train, \n",
    "                                                              y_train_energy, \n",
    "                                                              X_test, \n",
    "                                                              y_test_energy, \n",
    "                                                              'Energy')\n",
    "\n",
    "r2_energy_ES, rmse_energy_ES, rmsle_energy_ES, Y_pred_energy_ES = predict(clf_energy_ES, \n",
    "                                                                          X_train_ES, \n",
    "                                                                          y_train_energy, \n",
    "                                                                          X_test_ES, \n",
    "                                                                          y_test_energy, \n",
    "                                                                          'Energy (ENERGYSTARScore)')\n",
    "\n",
    "r2_emissions, rmse_emissions, rmsle_emissions, Y_pred_emissions = predict(clf_emissions, \n",
    "                                                                          X_train, \n",
    "                                                                          y_train_emissions, \n",
    "                                                                          X_test, \n",
    "                                                                          y_test_emissions, \n",
    "                                                                          'Energy')\n",
    "\n",
    "r2_emissions_ES, rmse_emissions_ES, rmsle_emissions_ES, Y_pred_emissions_ES = predict(clf_emissions_ES, \n",
    "                                                                                      X_train_ES, \n",
    "                                                                                      y_train_emissions, \n",
    "                                                                                      X_test_ES, \n",
    "                                                                                      y_test_emissions, \n",
    "                                                                                      'Energy (ENERGYSTARScore)')"
   ]
  },
  {
   "cell_type": "code",
   "execution_count": 27,
   "metadata": {},
   "outputs": [],
   "source": [
    "df_results = dfResultsSet(df_results, r2_energy, rmse_energy, rmsle_energy, 'Linear Regression', 'energy', 'no')\n",
    "df_results = dfResultsSet(df_results, r2_energy_ES, rmse_energy_ES, rmsle_energy_ES, 'Linear Regression', 'energy', 'yes')\n",
    "df_results = dfResultsSet(df_results, r2_emissions, rmse_emissions, rmsle_emissions, 'Linear Regression', 'emissions', 'no')\n",
    "df_results = dfResultsSet(df_results, r2_emissions_ES, rmse_emissions_ES, rmsle_emissions_ES, 'Linear Regression', 'emissions', 'yes')"
   ]
  },
  {
   "cell_type": "code",
   "execution_count": 28,
   "metadata": {},
   "outputs": [
    {
     "data": {
      "image/png": "[encoded data removed]",
      "text/plain": [
       "<Figure size 360x360 with 1 Axes>"
      ]
     },
     "metadata": {
      "needs_background": "light"
     },
     "output_type": "display_data"
    },
    {
     "data": {
      "image/png": "[encoded data removed]",
      "text/plain": [
       "<Figure size 360x360 with 1 Axes>"
      ]
     },
     "metadata": {
      "needs_background": "light"
     },
     "output_type": "display_data"
    },
    {
     "data": {
      "image/png": "[encoded data removed]",
      "text/plain": [
       "<Figure size 360x360 with 1 Axes>"
      ]
     },
     "metadata": {
      "needs_background": "light"
     },
     "output_type": "display_data"
    },
    {
     "data": {
      "image/png": "[encoded data removed]",
      "text/plain": [
       "<Figure size 360x360 with 1 Axes>"
      ]
     },
     "metadata": {
      "needs_background": "light"
     },
     "output_type": "display_data"
    }
   ],
   "source": [
    "errorOverPrediction('energy', 'no', y_test_energy, Y_pred_energy)\n",
    "errorOverPrediction('energy', 'yes', y_test_energy, Y_pred_energy_ES)\n",
    "errorOverPrediction('emissions', 'no', y_test_emissions, Y_pred_emissions)\n",
    "errorOverPrediction('emissions', 'yes', y_test_emissions, Y_pred_emissions_ES)"
   ]
  },
  {
   "cell_type": "markdown",
   "metadata": {},
   "source": [
    "### GridSearchCV\n",
    "\n",
    "Nous allons utiliser la fonction GridSearchCV fournie dans le package model_selection de Scikit-learn. Mais, qu'est-ce que la recherche de grille ? Il s'agit du processus de réglage des hyperparamètres afin de déterminer les valeurs optimales pour un modèle donné.\n",
    "\n",
    "Les performances d'un modèle dépendent de manière significative de la valeur des hyperparamètres mais il n'y a aucun moyen de connaître à l'avance leurs meilleures valeurs donc nous devons essayer toutes les valeurs possibles. Ce processus est automatisé avec GridSearchCV.\n",
    "\n",
    "La fonction GridSearchCV permet de parcourir des hyperparamètres prédéfinis et d'ajuster l'estimateur (modèle) au jeu d'entraînement. Ainsi, à la fin, nous pouvons sélectionner les meilleurs paramètres parmi les répertoriés.\n",
    "\n",
    "Donc, nous transmettons des valeurs prédéfinies pour les hyperparamètres à la fonction GridSearchCV en définissant un dictionnaire dans lequel nous mettions un hyperparamètre particulier ainsi que les valeurs qu'il peut prendre comme par exemple dans le cas du modèle SVM utilisé :\n",
    "\n",
    ">{'C':[0.001, 0.01, 0.1, 1, 10], 'epsilon':[0.0001, 0.001, 0.01, 0.1, 1, 10], 'gamma':[0.0001, 0.001, 0.01, 0.1, 1, 10]}\n",
    "\n",
    "Il faut signaler que le reste des hyperparamètres non-définis utiliseront leurs valeurs par défault.\n",
    "\n",
    "GridSearchCV essaie toutes les combinaisons des valeurs passées dans le dictionnaire et évalue le modèle pour chaque combinaison à l'aide de la méthode de validation croisée (CV). Par conséquent, après d'avoir utilisé cette fonction, nous obtenons une précision/perte pour chaque combinaison d'hyperparamètres et nous pouvons choisir celui avec les meilleures performances.\n",
    "\n",
    "Autrement dit, GridSearchCV implémente une méthose *fit* et une méthode *score*. Il peut aussi utiliser des autres méthodes mais il faut les signaler dans l'estimateur (estimator) utilisé.\n",
    "\n",
    "Quels sont les différents arguments pris par la fonction GridSearchCV ? Nous allons décrire les principaux paramètres de la fonction :\n",
    "\n",
    "- estimator : transmet l'instance de modèle pour laquelle nous souhaitons vérifier les hyperparamètres\n",
    "- param_grid : l'objet dictionnaire contenant les hyperparamètres à essayer\n",
    "- scoring : métrique d'évaluation à utiliser\n",
    "- n_jobs : nombre de processus à exécuter en parallèle pour cette tâche. Si la valeur du paramètre est -1, la fonction utilisera tous les processeurs disponibles à 100%\n",
    "- cv : nombre des validations croisées à essayer pour chaque ensemble d'hyperparamètres sélectionné\n",
    "- verbose : 1 pour obtenir l'impression détaillée pendant que l'on ajuste les données à GridSearchCV. Le plus haut, le plus de messages de sortie.\n",
    "\n",
    "Estimateurs utilisés : Elastic Net, Random Forest et SVM."
   ]
  },
  {
   "cell_type": "markdown",
   "metadata": {},
   "source": [
    "### Elastic Net\n",
    "\n",
    "Méthode de régression régularisée qui combine linéairement les pénalités L1 et L2 des méthodes Lasso et Ridge. La régularisation consiste à contrôler simultanément l'erreur du modèle sur le jeu d'entraînement et la complexité du modèle.\n",
    "\n",
    "La méthode du Elastic Net surmonte les limites de Lasso qui utilise une fonction de pénalité (L1) qui permet d'avoir un modèle parcimonieux (avec beaucoup de coefficients nuls) mais instable. D'autre, Lasso n'a pas de solution explicite ni nécessairement unique. Pour surmonter ces limitations, l'Elastic Net ajoute la régularisation de Tikhonov connue aussi comme Régression Ridge (L2) qui permet d'éviter le sur-apprentissage avec une solution unique.\n",
    "\n",
    "Elastic Net combine les normes L1 et L2 pour obtenir une solution moins parcimonieuse que Lasso mais plus stable et dans laquelle toutes les variables corrélées pertinentes pour la prédiction de l'étiquette sont sélectionnées et reçoivent un poids identique."
   ]
  },
  {
   "cell_type": "code",
   "execution_count": 29,
   "metadata": {
    "scrolled": true
   },
   "outputs": [
    {
     "name": "stdout",
     "output_type": "stream",
     "text": [
      "Fitting 5 folds for each of 3200 candidates, totalling 16000 fits\n"
     ]
    },
    {
     "name": "stderr",
     "output_type": "stream",
     "text": [
      "[Parallel(n_jobs=-1)]: Using backend LokyBackend with 12 concurrent workers.\n",
      "[Parallel(n_jobs=-1)]: Done  48 tasks      | elapsed:    3.5s\n",
      "[Parallel(n_jobs=-1)]: Done 204 tasks      | elapsed:    4.6s\n",
      "[Parallel(n_jobs=-1)]: Done 456 tasks      | elapsed:    6.2s\n",
      "[Parallel(n_jobs=-1)]: Done 780 tasks      | elapsed:    8.2s\n",
      "[Parallel(n_jobs=-1)]: Done 1176 tasks      | elapsed:   10.3s\n",
      "[Parallel(n_jobs=-1)]: Done 1644 tasks      | elapsed:   12.7s\n",
      "[Parallel(n_jobs=-1)]: Done 2184 tasks      | elapsed:   15.6s\n",
      "[Parallel(n_jobs=-1)]: Done 4104 tasks      | elapsed:   20.7s\n",
      "[Parallel(n_jobs=-1)]: Done 7032 tasks      | elapsed:   24.8s\n",
      "[Parallel(n_jobs=-1)]: Done 9300 tasks      | elapsed:   34.5s\n",
      "[Parallel(n_jobs=-1)]: Done 10176 tasks      | elapsed:   39.4s\n",
      "[Parallel(n_jobs=-1)]: Done 16000 out of 16000 | elapsed:   46.1s finished\n"
     ]
    },
    {
     "data": {
      "text/plain": [
       "GridSearchCV(cv=5, estimator=ElasticNet(), n_jobs=-1,\n",
       "             param_grid={'alpha': [0.0001, 0.001, 0.01, 0.1, 0.0, 1.0, 10.0,\n",
       "                                   100.0],\n",
       "                         'l1_ratio': array([0.  , 0.01, 0.02, 0.03, 0.04, 0.05, 0.06, 0.07, 0.08, 0.09, 0.1 ,\n",
       "       0.11, 0.12, 0.13, 0.14, 0.15, 0.16, 0.17, 0.18, 0.19, 0.2 , 0.21,\n",
       "       0.22, 0.23, 0.24, 0.25, 0.26, 0.27, 0.28, 0.29, 0.3 , 0.31, 0.32,\n",
       "       0.33, 0.34, 0.35, 0.36, 0.37, 0.38, 0.39, 0.4 , 0.41, 0.42, 0.43,\n",
       "       0.44...0.49, 0.5 , 0.51, 0.52, 0.53, 0.54,\n",
       "       0.55, 0.56, 0.57, 0.58, 0.59, 0.6 , 0.61, 0.62, 0.63, 0.64, 0.65,\n",
       "       0.66, 0.67, 0.68, 0.69, 0.7 , 0.71, 0.72, 0.73, 0.74, 0.75, 0.76,\n",
       "       0.77, 0.78, 0.79, 0.8 , 0.81, 0.82, 0.83, 0.84, 0.85, 0.86, 0.87,\n",
       "       0.88, 0.89, 0.9 , 0.91, 0.92, 0.93, 0.94, 0.95, 0.96, 0.97, 0.98,\n",
       "       0.99]),\n",
       "                         'tol': [0.1, 0.01, 0.001, 0.0001]},\n",
       "             return_train_score=True, scoring='neg_mean_squared_error',\n",
       "             verbose=5)"
      ]
     },
     "execution_count": 29,
     "metadata": {},
     "output_type": "execute_result"
    }
   ],
   "source": [
    "from sklearn.model_selection import GridSearchCV\n",
    "\n",
    "parameters = {'tol' : [0.1, 0.01, 0.001, 0.0001],\n",
    "              'alpha': [0.0001, 0.001, 0.01, 0.1, 0.0, 1.0, 10.0, 100.0], #0->LinearRegression\n",
    "              'l1_ratio': np.arange(0, 1, 0.01)} #1->Lasso (L1 penalty), 0->Ridge (L2 Penalty)\n",
    "\n",
    "elastic_grid_energy = GridSearchCV(estimator=linear_model.ElasticNet(), \n",
    "                                   param_grid=parameters, \n",
    "                                   scoring='neg_mean_squared_error', \n",
    "                                   cv=5, \n",
    "                                   verbose=5,\n",
    "                                   n_jobs=-1, \n",
    "                                   return_train_score=True)\n",
    "\n",
    "elastic_grid_energy.fit(X_train, y_train_energy)"
   ]
  },
  {
   "cell_type": "code",
   "execution_count": 30,
   "metadata": {
    "scrolled": true
   },
   "outputs": [
    {
     "name": "stdout",
     "output_type": "stream",
     "text": [
      "{'alpha': 0.01, 'l1_ratio': 0.53, 'tol': 0.01}\n",
      "Mean absolute error (MAE): -1.1059497403213856\n"
     ]
    }
   ],
   "source": [
    "print(elastic_grid_energy.best_params_)\n",
    "print('Mean absolute error (MAE):', elastic_grid_energy.best_score_)"
   ]
  },
  {
   "cell_type": "markdown",
   "metadata": {},
   "source": [
    "- alpha=0.01 dans le cas de 0, c'est comme une LinearRegression. Utiliser alpha = 0 n'est pas conseillé\n",
    "- l1_ratio= 0.53 veut dire que le poids est presque une combinaison linéaire équilibrée de L1 et L2. Elastic Net est une procédure en deux étapes : elle trouve les coefficients de Régression Ridge, puis fait une réduction de dimension de type Lasso."
   ]
  },
  {
   "cell_type": "code",
   "execution_count": 31,
   "metadata": {
    "scrolled": true
   },
   "outputs": [
    {
     "name": "stderr",
     "output_type": "stream",
     "text": [
      "[Parallel(n_jobs=-1)]: Using backend LokyBackend with 12 concurrent workers.\n"
     ]
    },
    {
     "name": "stdout",
     "output_type": "stream",
     "text": [
      "Fitting 5 folds for each of 3200 candidates, totalling 16000 fits\n"
     ]
    },
    {
     "name": "stderr",
     "output_type": "stream",
     "text": [
      "[Parallel(n_jobs=-1)]: Done  72 tasks      | elapsed:    0.5s\n",
      "[Parallel(n_jobs=-1)]: Done 252 tasks      | elapsed:    1.9s\n",
      "[Parallel(n_jobs=-1)]: Done 504 tasks      | elapsed:    3.6s\n",
      "[Parallel(n_jobs=-1)]: Done 828 tasks      | elapsed:    5.8s\n",
      "[Parallel(n_jobs=-1)]: Done 1224 tasks      | elapsed:    8.2s\n",
      "[Parallel(n_jobs=-1)]: Done 1692 tasks      | elapsed:   10.7s\n",
      "[Parallel(n_jobs=-1)]: Done 2232 tasks      | elapsed:   13.7s\n",
      "[Parallel(n_jobs=-1)]: Done 4368 tasks      | elapsed:   18.7s\n",
      "[Parallel(n_jobs=-1)]: Done 7104 tasks      | elapsed:   22.4s\n",
      "[Parallel(n_jobs=-1)]: Done 10128 tasks      | elapsed:   37.8s\n",
      "[Parallel(n_jobs=-1)]: Done 13440 tasks      | elapsed:   42.1s\n",
      "[Parallel(n_jobs=-1)]: Done 16000 out of 16000 | elapsed:   45.6s finished\n"
     ]
    },
    {
     "data": {
      "text/plain": [
       "GridSearchCV(cv=5, estimator=ElasticNet(), n_jobs=-1,\n",
       "             param_grid={'alpha': [0.0001, 0.001, 0.01, 0.1, 0.0, 1.0, 10.0,\n",
       "                                   100.0],\n",
       "                         'l1_ratio': array([0.  , 0.01, 0.02, 0.03, 0.04, 0.05, 0.06, 0.07, 0.08, 0.09, 0.1 ,\n",
       "       0.11, 0.12, 0.13, 0.14, 0.15, 0.16, 0.17, 0.18, 0.19, 0.2 , 0.21,\n",
       "       0.22, 0.23, 0.24, 0.25, 0.26, 0.27, 0.28, 0.29, 0.3 , 0.31, 0.32,\n",
       "       0.33, 0.34, 0.35, 0.36, 0.37, 0.38, 0.39, 0.4 , 0.41, 0.42, 0.43,\n",
       "       0.44...0.49, 0.5 , 0.51, 0.52, 0.53, 0.54,\n",
       "       0.55, 0.56, 0.57, 0.58, 0.59, 0.6 , 0.61, 0.62, 0.63, 0.64, 0.65,\n",
       "       0.66, 0.67, 0.68, 0.69, 0.7 , 0.71, 0.72, 0.73, 0.74, 0.75, 0.76,\n",
       "       0.77, 0.78, 0.79, 0.8 , 0.81, 0.82, 0.83, 0.84, 0.85, 0.86, 0.87,\n",
       "       0.88, 0.89, 0.9 , 0.91, 0.92, 0.93, 0.94, 0.95, 0.96, 0.97, 0.98,\n",
       "       0.99]),\n",
       "                         'tol': [0.1, 0.01, 0.001, 0.0001]},\n",
       "             return_train_score=True, scoring='neg_mean_squared_error',\n",
       "             verbose=5)"
      ]
     },
     "execution_count": 31,
     "metadata": {},
     "output_type": "execute_result"
    }
   ],
   "source": [
    "elastic_grid_energy_ES = GridSearchCV(estimator=linear_model.ElasticNet(), \n",
    "                                      param_grid=parameters, \n",
    "                                      scoring='neg_mean_squared_error', \n",
    "                                      cv=5, \n",
    "                                      verbose=5,\n",
    "                                      n_jobs=-1, \n",
    "                                      return_train_score=True)\n",
    "\n",
    "elastic_grid_energy_ES.fit(X_train_ES, y_train_energy)"
   ]
  },
  {
   "cell_type": "code",
   "execution_count": 32,
   "metadata": {
    "scrolled": true
   },
   "outputs": [
    {
     "name": "stdout",
     "output_type": "stream",
     "text": [
      "{'alpha': 0.01, 'l1_ratio': 0.99, 'tol': 0.0001}\n",
      "Mean absolute error (MAE): -0.9770209435066818\n"
     ]
    }
   ],
   "source": [
    "print(elastic_grid_energy_ES.best_params_)\n",
    "print('Mean absolute error (MAE):', elastic_grid_energy_ES.best_score_)"
   ]
  },
  {
   "cell_type": "code",
   "execution_count": 33,
   "metadata": {
    "scrolled": true
   },
   "outputs": [
    {
     "name": "stderr",
     "output_type": "stream",
     "text": [
      "[Parallel(n_jobs=-1)]: Using backend LokyBackend with 12 concurrent workers.\n"
     ]
    },
    {
     "name": "stdout",
     "output_type": "stream",
     "text": [
      "Fitting 5 folds for each of 3200 candidates, totalling 16000 fits\n"
     ]
    },
    {
     "name": "stderr",
     "output_type": "stream",
     "text": [
      "[Parallel(n_jobs=-1)]: Done  72 tasks      | elapsed:    0.5s\n",
      "[Parallel(n_jobs=-1)]: Done 432 tasks      | elapsed:    2.8s\n",
      "[Parallel(n_jobs=-1)]: Done 936 tasks      | elapsed:    5.7s\n",
      "[Parallel(n_jobs=-1)]: Done 1584 tasks      | elapsed:    9.1s\n",
      "[Parallel(n_jobs=-1)]: Done 2376 tasks      | elapsed:   13.0s\n",
      "[Parallel(n_jobs=-1)]: Done 3312 tasks      | elapsed:   15.3s\n",
      "[Parallel(n_jobs=-1)]: Done 5448 tasks      | elapsed:   18.9s\n",
      "[Parallel(n_jobs=-1)]: Done 7896 tasks      | elapsed:   22.3s\n",
      "[Parallel(n_jobs=-1)]: Done 10632 tasks      | elapsed:   36.6s\n",
      "[Parallel(n_jobs=-1)]: Done 13656 tasks      | elapsed:   40.3s\n",
      "[Parallel(n_jobs=-1)]: Done 16000 out of 16000 | elapsed:   43.1s finished\n"
     ]
    },
    {
     "data": {
      "text/plain": [
       "GridSearchCV(cv=5, estimator=ElasticNet(), n_jobs=-1,\n",
       "             param_grid={'alpha': [0.0001, 0.001, 0.01, 0.1, 0.0, 1.0, 10.0,\n",
       "                                   100.0],\n",
       "                         'l1_ratio': array([0.  , 0.01, 0.02, 0.03, 0.04, 0.05, 0.06, 0.07, 0.08, 0.09, 0.1 ,\n",
       "       0.11, 0.12, 0.13, 0.14, 0.15, 0.16, 0.17, 0.18, 0.19, 0.2 , 0.21,\n",
       "       0.22, 0.23, 0.24, 0.25, 0.26, 0.27, 0.28, 0.29, 0.3 , 0.31, 0.32,\n",
       "       0.33, 0.34, 0.35, 0.36, 0.37, 0.38, 0.39, 0.4 , 0.41, 0.42, 0.43,\n",
       "       0.44...0.49, 0.5 , 0.51, 0.52, 0.53, 0.54,\n",
       "       0.55, 0.56, 0.57, 0.58, 0.59, 0.6 , 0.61, 0.62, 0.63, 0.64, 0.65,\n",
       "       0.66, 0.67, 0.68, 0.69, 0.7 , 0.71, 0.72, 0.73, 0.74, 0.75, 0.76,\n",
       "       0.77, 0.78, 0.79, 0.8 , 0.81, 0.82, 0.83, 0.84, 0.85, 0.86, 0.87,\n",
       "       0.88, 0.89, 0.9 , 0.91, 0.92, 0.93, 0.94, 0.95, 0.96, 0.97, 0.98,\n",
       "       0.99]),\n",
       "                         'tol': [0.1, 0.01, 0.001, 0.0001]},\n",
       "             return_train_score=True, scoring='neg_mean_squared_error',\n",
       "             verbose=5)"
      ]
     },
     "execution_count": 33,
     "metadata": {},
     "output_type": "execute_result"
    }
   ],
   "source": [
    "elastic_grid_emissions = GridSearchCV(estimator=linear_model.ElasticNet(), \n",
    "                                      param_grid=parameters, \n",
    "                                      scoring='neg_mean_squared_error', \n",
    "                                      cv=5, \n",
    "                                      verbose=5,\n",
    "                                      n_jobs=-1, \n",
    "                                      return_train_score=True)\n",
    "\n",
    "elastic_grid_emissions.fit(X_train, y_train_emissions)"
   ]
  },
  {
   "cell_type": "code",
   "execution_count": 34,
   "metadata": {},
   "outputs": [
    {
     "name": "stdout",
     "output_type": "stream",
     "text": [
      "{'alpha': 0.01, 'l1_ratio': 0.18, 'tol': 0.0001}\n",
      "Mean absolute error (MAE): -2.690998488810699\n"
     ]
    }
   ],
   "source": [
    "print(elastic_grid_emissions.best_params_)\n",
    "print('Mean absolute error (MAE):', elastic_grid_emissions.best_score_)"
   ]
  },
  {
   "cell_type": "code",
   "execution_count": 35,
   "metadata": {
    "scrolled": true
   },
   "outputs": [
    {
     "name": "stderr",
     "output_type": "stream",
     "text": [
      "[Parallel(n_jobs=-1)]: Using backend LokyBackend with 12 concurrent workers.\n"
     ]
    },
    {
     "name": "stdout",
     "output_type": "stream",
     "text": [
      "Fitting 5 folds for each of 3200 candidates, totalling 16000 fits\n"
     ]
    },
    {
     "name": "stderr",
     "output_type": "stream",
     "text": [
      "[Parallel(n_jobs=-1)]: Done  72 tasks      | elapsed:    0.6s\n",
      "[Parallel(n_jobs=-1)]: Done 252 tasks      | elapsed:    1.8s\n",
      "[Parallel(n_jobs=-1)]: Done 504 tasks      | elapsed:    3.4s\n",
      "[Parallel(n_jobs=-1)]: Done 828 tasks      | elapsed:    5.3s\n",
      "[Parallel(n_jobs=-1)]: Done 1224 tasks      | elapsed:    7.6s\n",
      "[Parallel(n_jobs=-1)]: Done 1692 tasks      | elapsed:   10.1s\n",
      "[Parallel(n_jobs=-1)]: Done 2232 tasks      | elapsed:   13.0s\n",
      "[Parallel(n_jobs=-1)]: Done 4368 tasks      | elapsed:   17.7s\n",
      "[Parallel(n_jobs=-1)]: Done 7104 tasks      | elapsed:   21.6s\n",
      "[Parallel(n_jobs=-1)]: Done 10128 tasks      | elapsed:   37.4s\n",
      "[Parallel(n_jobs=-1)]: Done 13440 tasks      | elapsed:   41.6s\n",
      "[Parallel(n_jobs=-1)]: Done 16000 out of 16000 | elapsed:   44.7s finished\n"
     ]
    },
    {
     "data": {
      "text/plain": [
       "GridSearchCV(cv=5, estimator=ElasticNet(), n_jobs=-1,\n",
       "             param_grid={'alpha': [0.0001, 0.001, 0.01, 0.1, 0.0, 1.0, 10.0,\n",
       "                                   100.0],\n",
       "                         'l1_ratio': array([0.  , 0.01, 0.02, 0.03, 0.04, 0.05, 0.06, 0.07, 0.08, 0.09, 0.1 ,\n",
       "       0.11, 0.12, 0.13, 0.14, 0.15, 0.16, 0.17, 0.18, 0.19, 0.2 , 0.21,\n",
       "       0.22, 0.23, 0.24, 0.25, 0.26, 0.27, 0.28, 0.29, 0.3 , 0.31, 0.32,\n",
       "       0.33, 0.34, 0.35, 0.36, 0.37, 0.38, 0.39, 0.4 , 0.41, 0.42, 0.43,\n",
       "       0.44...0.49, 0.5 , 0.51, 0.52, 0.53, 0.54,\n",
       "       0.55, 0.56, 0.57, 0.58, 0.59, 0.6 , 0.61, 0.62, 0.63, 0.64, 0.65,\n",
       "       0.66, 0.67, 0.68, 0.69, 0.7 , 0.71, 0.72, 0.73, 0.74, 0.75, 0.76,\n",
       "       0.77, 0.78, 0.79, 0.8 , 0.81, 0.82, 0.83, 0.84, 0.85, 0.86, 0.87,\n",
       "       0.88, 0.89, 0.9 , 0.91, 0.92, 0.93, 0.94, 0.95, 0.96, 0.97, 0.98,\n",
       "       0.99]),\n",
       "                         'tol': [0.1, 0.01, 0.001, 0.0001]},\n",
       "             return_train_score=True, scoring='neg_mean_squared_error',\n",
       "             verbose=5)"
      ]
     },
     "execution_count": 35,
     "metadata": {},
     "output_type": "execute_result"
    }
   ],
   "source": [
    "elastic_grid_emissions_ES = GridSearchCV(estimator=linear_model.ElasticNet(), \n",
    "                                         param_grid=parameters, \n",
    "                                         scoring='neg_mean_squared_error', \n",
    "                                         cv=5, \n",
    "                                         verbose=5,\n",
    "                                         n_jobs=-1, \n",
    "                                         return_train_score=True)\n",
    "\n",
    "elastic_grid_emissions_ES.fit(X_train_ES, y_train_emissions)"
   ]
  },
  {
   "cell_type": "code",
   "execution_count": 36,
   "metadata": {},
   "outputs": [
    {
     "name": "stdout",
     "output_type": "stream",
     "text": [
      "{'alpha': 0.01, 'l1_ratio': 0.42, 'tol': 0.0001}\n",
      "Mean absolute error (MAE): -2.5421125268153455\n"
     ]
    }
   ],
   "source": [
    "print(elastic_grid_emissions_ES.best_params_)\n",
    "print('Mean absolute error (MAE):', elastic_grid_emissions_ES.best_score_)"
   ]
  },
  {
   "cell_type": "code",
   "execution_count": 37,
   "metadata": {},
   "outputs": [
    {
     "name": "stdout",
     "output_type": "stream",
     "text": [
      "Best r2-score Energy :0.6086\n",
      "Sqrt RMSE Energy : 1.0274\n",
      "Sqrt RMSLE Energy : 0.0456\n",
      "------------------------------\n",
      "Best r2-score Energy (ENERGYSTARScore) :0.6524\n",
      "Sqrt RMSE Energy (ENERGYSTARScore) : 0.9682\n",
      "Sqrt RMSLE Energy (ENERGYSTARScore) : 0.0429\n",
      "------------------------------\n",
      "Best r2-score Emissions :0.4419\n",
      "Sqrt RMSE Emissions : 1.5863\n",
      "Sqrt RMSLE Emissions : 0.3043\n",
      "------------------------------\n",
      "Best r2-score Emissions (ENERGYSTARScore) :0.4703\n",
      "Sqrt RMSE Emissions (ENERGYSTARScore) : 1.5455\n",
      "Sqrt RMSLE Emissions (ENERGYSTARScore) : 0.2963\n",
      "------------------------------\n"
     ]
    }
   ],
   "source": [
    "r2_eg_energy, rmse_eg_energy, rmsle_eg_energy, Y_eg_pred_energy = predict(elastic_grid_energy, \n",
    "                                                                          X_train, \n",
    "                                                                          y_train_energy,\n",
    "                                                                          X_test, \n",
    "                                                                          y_test_energy, \n",
    "                                                                          'Energy')\n",
    "\n",
    "r2_eg_energy_ES, rmse_eg_energy_ES, rmsle_eg_energy_ES, Y_eg_pred_energy_ES = predict(elastic_grid_energy_ES, \n",
    "                                                                                      X_train_ES, \n",
    "                                                                                      y_train_energy, \n",
    "                                                                                      X_test_ES, \n",
    "                                                                                      y_test_energy, \n",
    "                                                                                      'Energy (ENERGYSTARScore)')\n",
    "\n",
    "r2_eg_emissions, rmse_eg_emissions, rmsle_eg_emissions, Y_eg_pred_emissions = predict(elastic_grid_emissions, \n",
    "                                                                                      X_train, \n",
    "                                                                                      y_train_emissions, \n",
    "                                                                                      X_test, \n",
    "                                                                                      y_test_emissions, \n",
    "                                                                                      'Emissions')\n",
    "\n",
    "r2_eg_emissions_ES, rmse_eg_emissions_ES, rmsle_eg_emissions_ES, Y_eg_pred_emissions_ES = predict(elastic_grid_emissions_ES, \n",
    "                                                                                                  X_train_ES, \n",
    "                                                                                                  y_train_emissions, \n",
    "                                                                                                  X_test_ES, \n",
    "                                                                                                  y_test_emissions, \n",
    "                                                                                                  'Emissions (ENERGYSTARScore)')"
   ]
  },
  {
   "cell_type": "code",
   "execution_count": 38,
   "metadata": {},
   "outputs": [],
   "source": [
    "df_results = dfResultsSet(df_results, r2_eg_energy, rmse_eg_energy, rmsle_eg_energy, 'Elastic Net', 'energy', 'no')\n",
    "df_results = dfResultsSet(df_results, r2_eg_energy_ES, rmse_eg_energy_ES, rmsle_eg_energy_ES, 'Elastic Net', 'energy', 'yes')\n",
    "df_results = dfResultsSet(df_results, r2_eg_emissions, rmse_eg_emissions, rmsle_eg_emissions, 'Elastic Net', 'emissions', 'no')\n",
    "df_results = dfResultsSet(df_results, r2_eg_emissions_ES, rmse_eg_emissions_ES, rmsle_eg_emissions_ES, 'Elastic Net', 'emissions', 'yes')"
   ]
  },
  {
   "cell_type": "code",
   "execution_count": 39,
   "metadata": {},
   "outputs": [
    {
     "data": {
      "image/png": "[encoded data removed]",
      "text/plain": [
       "<Figure size 360x360 with 1 Axes>"
      ]
     },
     "metadata": {
      "needs_background": "light"
     },
     "output_type": "display_data"
    },
    {
     "data": {
      "image/png": "[encoded data removed]",
      "text/plain": [
       "<Figure size 360x360 with 1 Axes>"
      ]
     },
     "metadata": {
      "needs_background": "light"
     },
     "output_type": "display_data"
    },
    {
     "data": {
      "image/png": "[encoded data removed]",
      "text/plain": [
       "<Figure size 360x360 with 1 Axes>"
      ]
     },
     "metadata": {
      "needs_background": "light"
     },
     "output_type": "display_data"
    },
    {
     "data": {
      "image/png": "[encoded data removed]",
      "text/plain": [
       "<Figure size 360x360 with 1 Axes>"
      ]
     },
     "metadata": {
      "needs_background": "light"
     },
     "output_type": "display_data"
    }
   ],
   "source": [
    "errorOverPrediction('energy', 'no', y_test_energy, Y_eg_pred_energy)\n",
    "errorOverPrediction('energy', 'yes', y_test_energy, Y_eg_pred_energy_ES)\n",
    "errorOverPrediction('emissions', 'no', y_test_emissions, Y_eg_pred_emissions)\n",
    "errorOverPrediction('emissions', 'yes', y_test_emissions, Y_eg_pred_emissions_ES)"
   ]
  },
  {
   "cell_type": "markdown",
   "metadata": {},
   "source": [
    "### Random Forest\n",
    "\n",
    "Le Random Forest est une technique capable d'effectuer à la fois des tâches de régression et de classification à l'aide de plusieurs arbres de décision et de la technique Bootstrap Agreggation (bagging : entraîner chaque arbre de décision sur un jeu de données différent où l'échantillonnage est effectué avec remplacement). L'idée derrière cette méthode est de combiner plusieurs arbres de décision pour déterminer le résultat final plutôt que de s'appuyer sur des arbres de décision individuels."
   ]
  },
  {
   "cell_type": "code",
   "execution_count": 40,
   "metadata": {
    "scrolled": true
   },
   "outputs": [
    {
     "name": "stdout",
     "output_type": "stream",
     "text": [
      "Fitting 5 folds for each of 168 candidates, totalling 840 fits\n"
     ]
    },
    {
     "name": "stderr",
     "output_type": "stream",
     "text": [
      "[Parallel(n_jobs=-1)]: Using backend LokyBackend with 12 concurrent workers.\n",
      "[Parallel(n_jobs=-1)]: Done  67 tasks      | elapsed:   32.0s\n",
      "[Parallel(n_jobs=-1)]: Done 162 tasks      | elapsed:  1.3min\n",
      "[Parallel(n_jobs=-1)]: Done 288 tasks      | elapsed:  2.1min\n",
      "[Parallel(n_jobs=-1)]: Done 450 tasks      | elapsed:  2.7min\n",
      "[Parallel(n_jobs=-1)]: Done 648 tasks      | elapsed:  3.2min\n",
      "[Parallel(n_jobs=-1)]: Done 840 out of 840 | elapsed:  3.9min finished\n"
     ]
    },
    {
     "data": {
      "text/plain": [
       "GridSearchCV(cv=5, estimator=RandomForestRegressor(), n_jobs=-1,\n",
       "             param_grid={'max_features': ['auto', 'sqrt', 'log2'],\n",
       "                         'min_samples_leaf': [1, 2, 3, 4, 5, 10, 100],\n",
       "                         'n_estimators': [1, 10, 50, 100, 200, 250, 500, 1000]},\n",
       "             return_train_score=True, scoring='neg_mean_squared_error',\n",
       "             verbose=5)"
      ]
     },
     "execution_count": 40,
     "metadata": {},
     "output_type": "execute_result"
    }
   ],
   "source": [
    "from sklearn.ensemble import RandomForestRegressor\n",
    "\n",
    "parameters = {'n_estimators':[1, 10, 50, 100, 200, 250, 500, 1000], #number of trees in the forest\n",
    "              'min_samples_leaf':[1, 2, 3, 4, 5, 10, 100], #The minimum number of samples required to be at a leaf node\n",
    "              'max_features':['auto', 'sqrt', 'log2'], #The number of features to consider when looking for the best split\n",
    "              #'min_samples_split':[2] #he minimum number of samples required to split an internal node. Default =2\n",
    "             }\n",
    "\n",
    "rfr_grid_energy =  GridSearchCV(estimator=RandomForestRegressor(), \n",
    "                                param_grid=parameters, \n",
    "                                scoring='neg_mean_squared_error', \n",
    "                                cv=5, \n",
    "                                verbose=5,\n",
    "                                n_jobs=-1,\n",
    "                                return_train_score=True)\n",
    "\n",
    "rfr_grid_energy.fit(X_train, y_train_energy)"
   ]
  },
  {
   "cell_type": "code",
   "execution_count": 41,
   "metadata": {},
   "outputs": [
    {
     "name": "stdout",
     "output_type": "stream",
     "text": [
      "{'max_features': 'log2', 'min_samples_leaf': 1, 'n_estimators': 200}\n",
      "Mean absolute error (MAE): -0.1576548251409832\n"
     ]
    }
   ],
   "source": [
    "print(rfr_grid_energy.best_params_)\n",
    "print('Mean absolute error (MAE):', rfr_grid_energy.best_score_)"
   ]
  },
  {
   "cell_type": "code",
   "execution_count": 42,
   "metadata": {
    "scrolled": true
   },
   "outputs": [
    {
     "name": "stdout",
     "output_type": "stream",
     "text": [
      "Fitting 5 folds for each of 168 candidates, totalling 840 fits\n"
     ]
    },
    {
     "name": "stderr",
     "output_type": "stream",
     "text": [
      "[Parallel(n_jobs=-1)]: Using backend LokyBackend with 12 concurrent workers.\n",
      "[Parallel(n_jobs=-1)]: Done  68 tasks      | elapsed:   33.4s\n",
      "[Parallel(n_jobs=-1)]: Done 162 tasks      | elapsed:  1.4min\n",
      "[Parallel(n_jobs=-1)]: Done 288 tasks      | elapsed:  2.2min\n",
      "[Parallel(n_jobs=-1)]: Done 450 tasks      | elapsed:  2.8min\n",
      "[Parallel(n_jobs=-1)]: Done 648 tasks      | elapsed:  3.4min\n",
      "[Parallel(n_jobs=-1)]: Done 840 out of 840 | elapsed:  4.0min finished\n"
     ]
    },
    {
     "data": {
      "text/plain": [
       "GridSearchCV(cv=5, estimator=RandomForestRegressor(), n_jobs=-1,\n",
       "             param_grid={'max_features': ['auto', 'sqrt', 'log2'],\n",
       "                         'min_samples_leaf': [1, 2, 3, 4, 5, 10, 100],\n",
       "                         'n_estimators': [1, 10, 50, 100, 200, 250, 500, 1000]},\n",
       "             return_train_score=True, scoring='neg_mean_squared_error',\n",
       "             verbose=5)"
      ]
     },
     "execution_count": 42,
     "metadata": {},
     "output_type": "execute_result"
    }
   ],
   "source": [
    "rfr_grid_energy_ES =  GridSearchCV(estimator=RandomForestRegressor(), \n",
    "                                   param_grid=parameters, \n",
    "                                   scoring='neg_mean_squared_error', \n",
    "                                   cv=5, \n",
    "                                   verbose=5,\n",
    "                                   n_jobs=-1, \n",
    "                                   return_train_score=True)\n",
    "\n",
    "rfr_grid_energy_ES.fit(X_train_ES, y_train_energy)"
   ]
  },
  {
   "cell_type": "code",
   "execution_count": 43,
   "metadata": {
    "scrolled": true
   },
   "outputs": [
    {
     "name": "stdout",
     "output_type": "stream",
     "text": [
      "{'max_features': 'sqrt', 'min_samples_leaf': 1, 'n_estimators': 500}\n",
      "Mean absolute error (MAE): -0.14436488717123136\n"
     ]
    }
   ],
   "source": [
    "print(rfr_grid_energy_ES.best_params_)\n",
    "print('Mean absolute error (MAE):', rfr_grid_energy_ES.best_score_)"
   ]
  },
  {
   "cell_type": "code",
   "execution_count": 44,
   "metadata": {
    "scrolled": true
   },
   "outputs": [
    {
     "name": "stdout",
     "output_type": "stream",
     "text": [
      "Fitting 5 folds for each of 168 candidates, totalling 840 fits\n"
     ]
    },
    {
     "name": "stderr",
     "output_type": "stream",
     "text": [
      "[Parallel(n_jobs=-1)]: Using backend LokyBackend with 12 concurrent workers.\n",
      "[Parallel(n_jobs=-1)]: Done  68 tasks      | elapsed:   31.3s\n",
      "[Parallel(n_jobs=-1)]: Done 162 tasks      | elapsed:  1.3min\n",
      "[Parallel(n_jobs=-1)]: Done 288 tasks      | elapsed:  2.1min\n",
      "[Parallel(n_jobs=-1)]: Done 450 tasks      | elapsed:  2.7min\n",
      "[Parallel(n_jobs=-1)]: Done 648 tasks      | elapsed:  3.2min\n",
      "[Parallel(n_jobs=-1)]: Done 840 out of 840 | elapsed:  3.9min finished\n"
     ]
    },
    {
     "data": {
      "text/plain": [
       "GridSearchCV(cv=5, estimator=RandomForestRegressor(), n_jobs=-1,\n",
       "             param_grid={'max_features': ['auto', 'sqrt', 'log2'],\n",
       "                         'min_samples_leaf': [1, 2, 3, 4, 5, 10, 100],\n",
       "                         'n_estimators': [1, 10, 50, 100, 200, 250, 500, 1000]},\n",
       "             return_train_score=True, scoring='neg_mean_squared_error',\n",
       "             verbose=5)"
      ]
     },
     "execution_count": 44,
     "metadata": {},
     "output_type": "execute_result"
    }
   ],
   "source": [
    "rfr_grid_emissions =  GridSearchCV(estimator=RandomForestRegressor(), \n",
    "                                   param_grid=parameters, \n",
    "                                   scoring='neg_mean_squared_error', \n",
    "                                   cv=5, \n",
    "                                   verbose=5,\n",
    "                                   n_jobs=-1, \n",
    "                                   return_train_score=True)\n",
    "\n",
    "rfr_grid_emissions.fit(X_train, y_train_emissions)"
   ]
  },
  {
   "cell_type": "code",
   "execution_count": 45,
   "metadata": {
    "scrolled": true
   },
   "outputs": [
    {
     "name": "stdout",
     "output_type": "stream",
     "text": [
      "{'max_features': 'log2', 'min_samples_leaf': 1, 'n_estimators': 250}\n",
      "Mean absolute error (MAE): -0.8701862197205085\n"
     ]
    }
   ],
   "source": [
    "print(rfr_grid_emissions.best_params_)\n",
    "print('Mean absolute error (MAE):', rfr_grid_emissions.best_score_)"
   ]
  },
  {
   "cell_type": "code",
   "execution_count": 46,
   "metadata": {
    "scrolled": true
   },
   "outputs": [
    {
     "name": "stdout",
     "output_type": "stream",
     "text": [
      "Fitting 5 folds for each of 168 candidates, totalling 840 fits\n"
     ]
    },
    {
     "name": "stderr",
     "output_type": "stream",
     "text": [
      "[Parallel(n_jobs=-1)]: Using backend LokyBackend with 12 concurrent workers.\n",
      "[Parallel(n_jobs=-1)]: Done  68 tasks      | elapsed:   33.4s\n",
      "[Parallel(n_jobs=-1)]: Done 162 tasks      | elapsed:  1.4min\n",
      "[Parallel(n_jobs=-1)]: Done 288 tasks      | elapsed:  2.2min\n",
      "[Parallel(n_jobs=-1)]: Done 450 tasks      | elapsed:  2.8min\n",
      "[Parallel(n_jobs=-1)]: Done 648 tasks      | elapsed:  3.4min\n",
      "[Parallel(n_jobs=-1)]: Done 840 out of 840 | elapsed:  4.0min finished\n"
     ]
    },
    {
     "data": {
      "text/plain": [
       "GridSearchCV(cv=5, estimator=RandomForestRegressor(), n_jobs=-1,\n",
       "             param_grid={'max_features': ['auto', 'sqrt', 'log2'],\n",
       "                         'min_samples_leaf': [1, 2, 3, 4, 5, 10, 100],\n",
       "                         'n_estimators': [1, 10, 50, 100, 200, 250, 500, 1000]},\n",
       "             return_train_score=True, scoring='neg_mean_squared_error',\n",
       "             verbose=5)"
      ]
     },
     "execution_count": 46,
     "metadata": {},
     "output_type": "execute_result"
    }
   ],
   "source": [
    "rfr_grid_emissions_ES =  GridSearchCV(estimator=RandomForestRegressor(), \n",
    "                                      param_grid=parameters, \n",
    "                                      scoring='neg_mean_squared_error', \n",
    "                                      cv=5, \n",
    "                                      verbose=5,\n",
    "                                      n_jobs=-1, \n",
    "                                      return_train_score=True)\n",
    "\n",
    "rfr_grid_emissions_ES.fit(X_train_ES, y_train_emissions)"
   ]
  },
  {
   "cell_type": "code",
   "execution_count": 47,
   "metadata": {},
   "outputs": [
    {
     "name": "stdout",
     "output_type": "stream",
     "text": [
      "{'max_features': 'sqrt', 'min_samples_leaf': 1, 'n_estimators': 1000}\n",
      "Mean absolute error (MAE): -0.8364534585688392\n"
     ]
    }
   ],
   "source": [
    "print(rfr_grid_emissions_ES.best_params_)\n",
    "print('Mean absolute error (MAE):', rfr_grid_emissions_ES.best_score_)"
   ]
  },
  {
   "cell_type": "code",
   "execution_count": 48,
   "metadata": {},
   "outputs": [
    {
     "name": "stdout",
     "output_type": "stream",
     "text": [
      "Best r2-score Energy :0.9450\n",
      "Sqrt RMSE Energy : 0.3852\n",
      "Sqrt RMSLE Energy : 0.0177\n",
      "------------------------------\n",
      "Best r2-score Energy (ENERGYSTARScore) :0.9510\n",
      "Sqrt RMSE Energy (ENERGYSTARScore) : 0.3636\n",
      "Sqrt RMSLE Energy (ENERGYSTARScore) : 0.0167\n",
      "------------------------------\n",
      "Best r2-score Emissions :0.8435\n",
      "Sqrt RMSE Emissions : 0.8400\n",
      "Sqrt RMSLE Emissions : 0.1711\n",
      "------------------------------\n",
      "Best r2-score Emissions (ENERGYSTARScore) :0.8472\n",
      "Sqrt RMSE Emissions (ENERGYSTARScore) : 0.8302\n",
      "Sqrt RMSLE Emissions (ENERGYSTARScore) : 0.1690\n",
      "------------------------------\n"
     ]
    }
   ],
   "source": [
    "r2_rfr_energy, rmse_rfr_energy, rmsle_rfr_energy, Y_rfr_pred_energy = predict(rfr_grid_energy, \n",
    "                                                                              X_train, \n",
    "                                                                              y_train_energy, \n",
    "                                                                              X_test, \n",
    "                                                                              y_test_energy, \n",
    "                                                                              'Energy')\n",
    "\n",
    "r2_rfr_energy_ES, rmse_rfr_energy_ES, rmsle_rfr_energy_ES, Y_rfr_pred_energy_ES = predict(rfr_grid_energy_ES, \n",
    "                                                                                          X_train_ES, \n",
    "                                                                                          y_train_energy, \n",
    "                                                                                          X_test_ES, \n",
    "                                                                                          y_test_energy, \n",
    "                                                                                          'Energy (ENERGYSTARScore)')\n",
    "\n",
    "r2_rfr_emissions, rmse_rfr_emissions, rmsle_rfr_emissions, Y_rfr_pred_emissions = predict(rfr_grid_emissions, \n",
    "                                                                                          X_train, \n",
    "                                                                                          y_train_emissions, \n",
    "                                                                                          X_test, \n",
    "                                                                                          y_test_emissions, \n",
    "                                                                                          'Emissions')\n",
    "\n",
    "r2_rfr_emissions_ES, rmse_rfr_emissions_ES, rmsle_rfr_emissions_ES, Y_rfr_pred_emissions_ES = predict(rfr_grid_emissions_ES, \n",
    "                                                                                                      X_train_ES, \n",
    "                                                                                                      y_train_emissions, \n",
    "                                                                                                      X_test_ES, \n",
    "                                                                                                      y_test_emissions, \n",
    "                                                                                                      'Emissions (ENERGYSTARScore)')"
   ]
  },
  {
   "cell_type": "code",
   "execution_count": 49,
   "metadata": {},
   "outputs": [],
   "source": [
    "df_results = dfResultsSet(df_results, r2_rfr_energy, rmse_rfr_energy, rmsle_rfr_energy, 'Random Forest', 'energy', 'no')\n",
    "df_results = dfResultsSet(df_results, r2_rfr_energy_ES, rmse_rfr_energy_ES, rmsle_rfr_energy_ES, 'Random Forest', 'energy', 'yes')\n",
    "df_results = dfResultsSet(df_results, r2_rfr_emissions, rmse_rfr_emissions, rmsle_rfr_emissions, 'Random Forest', 'emissions', 'no')\n",
    "df_results = dfResultsSet(df_results, r2_rfr_emissions_ES, rmse_rfr_emissions_ES, rmsle_rfr_emissions_ES, 'Random Forest', 'emissions', 'yes')"
   ]
  },
  {
   "cell_type": "code",
   "execution_count": 50,
   "metadata": {},
   "outputs": [
    {
     "data": {
      "image/png": "[encoded data removed]",
      "text/plain": [
       "<Figure size 360x360 with 1 Axes>"
      ]
     },
     "metadata": {
      "needs_background": "light"
     },
     "output_type": "display_data"
    },
    {
     "data": {
      "image/png": "[encoded data removed]",
      "text/plain": [
       "<Figure size 360x360 with 1 Axes>"
      ]
     },
     "metadata": {
      "needs_background": "light"
     },
     "output_type": "display_data"
    },
    {
     "data": {
      "image/png": "[encoded data removed]",
      "text/plain": [
       "<Figure size 360x360 with 1 Axes>"
      ]
     },
     "metadata": {
      "needs_background": "light"
     },
     "output_type": "display_data"
    },
    {
     "data": {
      "image/png": "[encoded data removed]",
      "text/plain": [
       "<Figure size 360x360 with 1 Axes>"
      ]
     },
     "metadata": {
      "needs_background": "light"
     },
     "output_type": "display_data"
    }
   ],
   "source": [
    "errorOverPrediction('energy', 'no', y_test_energy, Y_rfr_pred_energy)\n",
    "errorOverPrediction('energy', 'yes', y_test_energy, Y_rfr_pred_energy_ES)\n",
    "errorOverPrediction('emissions', 'no', y_test_emissions, Y_rfr_pred_emissions)\n",
    "errorOverPrediction('emissions', 'yes', y_test_emissions, Y_rfr_pred_emissions_ES)"
   ]
  },
  {
   "cell_type": "markdown",
   "metadata": {},
   "source": [
    "### SVM\n",
    "\n",
    "SVM est une technique d'apprentissage automatique qui peut être utilisée à la fois pour des problèmes de régression et de classification. Il construit un hyperplan dans un espace multidimensionnel pour séparer un jeu de données en différentes classes de la meilleure façon possible ; donc, l'hyperplan c'est un plan de décision qui sépare et classe un ensemble de données.\n",
    "\n",
    "Les problèmes de régression impliquent la tâche d'approximer une fonction de mappage de variables d'entrée à une variable de sortie continue. L'approche consistant à utiliser les SVM pour résoudre les problèmes de régression est appelée Support Vector Regression (SVR).\n",
    "\n",
    "Le SVM reconnaît l'hyperplan optimal en calculant la distance entre le plan et les vecteurs de support (les points de données les plus proches de l'hyperplan), appelée la Marge (Margin). L'hyperplan optimal est le plan qui a la distance maximale des points de données les plus proches de chaque côté.\n",
    "\n",
    "Parfois, les données peuvent ne pas être séparables linéairement. Ces problèmes ne peuvent pas être résolus à l'aide d'un hyperplan linéaire. Donc, le SVM utilise des noyaux (kernel) pour transformer l'espace d'entrée en un espace dimensionnel supérieur (kernel trick).\n",
    "\n",
    "Un noyau est une fonction qui place un plan de mineure dimension dans un espace de dimension supérieure. Cela permet la projection des données sur un espace dimensionnel plus élevé où elles peuvent être séparées à l'aide d'un plan. Il existe 3 principaux types de noyaux utilisées par les SVM :\n",
    "- Linear Kernel : le produit scalaire entre deux observations données\n",
    "- Polynomial Kernel : permet des lignes courbes dans l'espace d'entrée\n",
    "- Radial Basis Fuction (RBF) Kernel : peut créer des régions complexes dans l'espace des features (par default sur l'algorithme SVR())\n",
    "\n",
    "**Epsilon**\n",
    "\n",
    "Le SVR nous donne une flexibilité de définir le niveau d'erreur acceptable dans notre modèle et trouvera un hyperplan pour ajuster les données. Contrairement à OLS (Ordinary Least Squares), la fonction objective de SVR est de minimiser les coefficients (plus précisément, la norme L2 du vecteur de coefficient) et non l'erreur carrée. Le terme d'erreur est plutôt traité dans les contraintes, où nous définissons l'erreur absolue (l'erreur maximale) epsilon. Nous pouvons régler epsilon pour obtenir la précision souhaitée de notre modèle.\n",
    "\n",
    "Donc, le SVR est un algorithme puissant qui nous permet de choisir dans quelle mesure nous sommes tolérants aux erreurs, à la fois par une marge d'erreur acceptable (epsilon) et par la réglage de notre tolérance de tomber en dehors de ce taux d'acceptance.\n",
    "\n",
    "**Gamma**\n",
    "\n",
    "Dans les cas du RBF Kernel, le hyperparamètre gamma définit jusqu'où l'influence d'un seul exemple d'entraînement atteint, avec des valeurs faibles signifiant \"loin\" et des valeurs élevées signifiant \"proche\". Gamma peut être considéré comme l'inverse du rayon d'influence des échantillons sélectionnés par le modèle comme vecteurs de support.\n",
    "\n",
    "Autrement dit, gamma est un hyperparamètre pour les hyperplans non-linéaires. Le plus haut est le gamma, plus le SVR essaiera de s'adapter exactement à l'ensemble de données d'entraînement. Pourtant, l'augmentation du gamma conduit à un surajustement (overfitting) car le classificateur tente de s'adapter parfaitement aux données d'entraînement.\n",
    "\n",
    "**C**\n",
    "\n",
    "Le hyperparamètre C est la pénalité du terme d'erreur. Il contrôle le compromis entre une frontière de décision fluide et la classification correcte des points d'entraînement. L'augmentation de C peut conduire à un surajustement des données d'entraînement. C se comporte comme un paramètre de régularisation dans le SVM.\n",
    "\n",
    "Une valeur C élevée indique à l'algorithme à quel point on se soucie des points mal classés. Une valeur élevée indique à l'algorithme que on donne plus d'importance à bien classer correctement tous les points d'entraînement que de laisser de la marge de manoeuvre pour les données futures. Un C élevé c'est comme assumer que les données d'entraînement contiennent les observations les plus extrêmes possibles.\n",
    "\n",
    "Lorsqu'elles sont combinées avec un noyau RBF, de grandes valeurs pour le paramètre C peuvent considérablement surcharger les données. Cela peut provoquer les régions isolées de classification. Si nous exécutons GridSearchCV sur le paramètre C, nous constatons que la valeur idéale pour C est 10."
   ]
  },
  {
   "cell_type": "code",
   "execution_count": 51,
   "metadata": {
    "scrolled": true
   },
   "outputs": [
    {
     "name": "stdout",
     "output_type": "stream",
     "text": [
      "Fitting 5 folds for each of 350 candidates, totalling 1750 fits\n"
     ]
    },
    {
     "name": "stderr",
     "output_type": "stream",
     "text": [
      "[Parallel(n_jobs=-1)]: Using backend LokyBackend with 12 concurrent workers.\n",
      "[Parallel(n_jobs=-1)]: Done  48 tasks      | elapsed:    4.1s\n",
      "[Parallel(n_jobs=-1)]: Done 138 tasks      | elapsed:   12.3s\n",
      "[Parallel(n_jobs=-1)]: Done 264 tasks      | elapsed:   19.2s\n",
      "[Parallel(n_jobs=-1)]: Done 522 tasks      | elapsed:   34.4s\n",
      "[Parallel(n_jobs=-1)]: Done 804 tasks      | elapsed:   49.8s\n",
      "[Parallel(n_jobs=-1)]: Done 1092 tasks      | elapsed:  1.1min\n",
      "[Parallel(n_jobs=-1)]: Done 1491 tasks      | elapsed:  1.5min\n",
      "[Parallel(n_jobs=-1)]: Done 1750 out of 1750 | elapsed:  1.7min finished\n"
     ]
    },
    {
     "data": {
      "text/plain": [
       "GridSearchCV(cv=5, estimator=SVR(), n_jobs=-1,\n",
       "             param_grid={'C': [0.001, 0.01, 0.1, 1, 10],\n",
       "                         'epsilon': [0.0001, 0.001, 0.01, 0.1, 1, 2, 5],\n",
       "                         'gamma': [1e-08, 1e-07, 1e-06, 1e-05, 0.0001, 0.001,\n",
       "                                   0.01, 0.1, 1, 10]},\n",
       "             return_train_score=True, scoring='neg_mean_squared_error',\n",
       "             verbose=5)"
      ]
     },
     "execution_count": 51,
     "metadata": {},
     "output_type": "execute_result"
    }
   ],
   "source": [
    "from sklearn.svm import SVR\n",
    "\n",
    "parameters = {'C':[0.001, 0.01, 0.1, 1, 10],\n",
    "              'epsilon':[0.0001, 0.001, 0.01, 0.1, 1, 2, 5], \n",
    "              'gamma':[1e-8, 1e-7, 1e-6, 1e-5, 1e-4, 1e-3, 1e-2, 1e-1, 1, 10],\n",
    "             }\n",
    "\n",
    "#default kernel='rbf' (radial basis function)\n",
    "svm_energy = GridSearchCV(estimator=SVR(), \n",
    "                          param_grid=parameters, \n",
    "                          scoring='neg_mean_squared_error', \n",
    "                          cv=5, \n",
    "                          verbose=5,\n",
    "                          n_jobs=-1, \n",
    "                          return_train_score=True)\n",
    "\n",
    "svm_energy.fit(X_train, y_train_energy)"
   ]
  },
  {
   "cell_type": "code",
   "execution_count": 52,
   "metadata": {},
   "outputs": [
    {
     "name": "stdout",
     "output_type": "stream",
     "text": [
      "{'C': 10, 'epsilon': 0.1, 'gamma': 0.1}\n",
      "Mean absolute error (MAE): -0.31280946169767165\n"
     ]
    }
   ],
   "source": [
    "print(svm_energy.best_params_)\n",
    "print('Mean absolute error (MAE):', svm_energy.best_score_)"
   ]
  },
  {
   "cell_type": "markdown",
   "metadata": {},
   "source": [
    "Quand l'hyperparamètre C augmente, la tolérance pour les points en dehors d'epsilon augmente également. Lorsque C s'approche de 0, la tolérance s'approche de 0 et l'équation devient l'équation simplifiée. Autre situation à signaler c'est que généralement lorsque C augmente, le MAE diminue."
   ]
  },
  {
   "cell_type": "code",
   "execution_count": 53,
   "metadata": {
    "scrolled": true
   },
   "outputs": [
    {
     "name": "stdout",
     "output_type": "stream",
     "text": [
      "Fitting 5 folds for each of 350 candidates, totalling 1750 fits\n"
     ]
    },
    {
     "name": "stderr",
     "output_type": "stream",
     "text": [
      "[Parallel(n_jobs=-1)]: Using backend LokyBackend with 12 concurrent workers.\n",
      "[Parallel(n_jobs=-1)]: Done  48 tasks      | elapsed:    4.5s\n",
      "[Parallel(n_jobs=-1)]: Done 138 tasks      | elapsed:   12.5s\n",
      "[Parallel(n_jobs=-1)]: Done 264 tasks      | elapsed:   19.6s\n",
      "[Parallel(n_jobs=-1)]: Done 522 tasks      | elapsed:   35.1s\n",
      "[Parallel(n_jobs=-1)]: Done 804 tasks      | elapsed:   50.2s\n",
      "[Parallel(n_jobs=-1)]: Done 1092 tasks      | elapsed:  1.1min\n",
      "[Parallel(n_jobs=-1)]: Done 1497 tasks      | elapsed:  1.5min\n",
      "[Parallel(n_jobs=-1)]: Done 1750 out of 1750 | elapsed:  1.8min finished\n"
     ]
    },
    {
     "data": {
      "text/plain": [
       "GridSearchCV(cv=5, estimator=SVR(), n_jobs=-1,\n",
       "             param_grid={'C': [0.001, 0.01, 0.1, 1, 10],\n",
       "                         'epsilon': [0.0001, 0.001, 0.01, 0.1, 1, 2, 5],\n",
       "                         'gamma': [1e-08, 1e-07, 1e-06, 1e-05, 0.0001, 0.001,\n",
       "                                   0.01, 0.1, 1, 10]},\n",
       "             return_train_score=True, scoring='neg_mean_squared_error',\n",
       "             verbose=5)"
      ]
     },
     "execution_count": 53,
     "metadata": {},
     "output_type": "execute_result"
    }
   ],
   "source": [
    "svm_energy_ES = GridSearchCV(estimator=SVR(), \n",
    "                             param_grid=parameters, \n",
    "                             scoring='neg_mean_squared_error', \n",
    "                             cv=5, \n",
    "                             verbose=5,\n",
    "                             n_jobs=-1, \n",
    "                             return_train_score=True)\n",
    "\n",
    "svm_energy_ES.fit(X_train_ES, y_train_energy)"
   ]
  },
  {
   "cell_type": "code",
   "execution_count": 54,
   "metadata": {
    "scrolled": true
   },
   "outputs": [
    {
     "name": "stdout",
     "output_type": "stream",
     "text": [
      "{'C': 10, 'epsilon': 0.1, 'gamma': 0.1}\n",
      "Mean absolute error (MAE): -0.2613316134130075\n"
     ]
    }
   ],
   "source": [
    "print(svm_energy_ES.best_params_)\n",
    "print('Mean absolute error (MAE):', svm_energy_ES.best_score_)"
   ]
  },
  {
   "cell_type": "code",
   "execution_count": 55,
   "metadata": {
    "scrolled": true
   },
   "outputs": [
    {
     "name": "stdout",
     "output_type": "stream",
     "text": [
      "Fitting 5 folds for each of 350 candidates, totalling 1750 fits\n"
     ]
    },
    {
     "name": "stderr",
     "output_type": "stream",
     "text": [
      "[Parallel(n_jobs=-1)]: Using backend LokyBackend with 12 concurrent workers.\n",
      "[Parallel(n_jobs=-1)]: Done  48 tasks      | elapsed:    3.9s\n",
      "[Parallel(n_jobs=-1)]: Done 138 tasks      | elapsed:   11.6s\n",
      "[Parallel(n_jobs=-1)]: Done 264 tasks      | elapsed:   19.6s\n",
      "[Parallel(n_jobs=-1)]: Done 522 tasks      | elapsed:   35.3s\n",
      "[Parallel(n_jobs=-1)]: Done 744 tasks      | elapsed:   46.1s\n",
      "[Parallel(n_jobs=-1)]: Done 1056 tasks      | elapsed:  1.1min\n",
      "[Parallel(n_jobs=-1)]: Done 1440 tasks      | elapsed:  1.5min\n",
      "[Parallel(n_jobs=-1)]: Done 1750 out of 1750 | elapsed:  1.8min finished\n"
     ]
    },
    {
     "data": {
      "text/plain": [
       "GridSearchCV(cv=5, estimator=SVR(), n_jobs=-1,\n",
       "             param_grid={'C': [0.001, 0.01, 0.1, 1, 10],\n",
       "                         'epsilon': [0.0001, 0.001, 0.01, 0.1, 1, 2, 5],\n",
       "                         'gamma': [1e-08, 1e-07, 1e-06, 1e-05, 0.0001, 0.001,\n",
       "                                   0.01, 0.1, 1, 10]},\n",
       "             return_train_score=True, scoring='neg_mean_squared_error',\n",
       "             verbose=5)"
      ]
     },
     "execution_count": 55,
     "metadata": {},
     "output_type": "execute_result"
    }
   ],
   "source": [
    "svm_emissions = GridSearchCV(estimator=SVR(), \n",
    "                             param_grid=parameters, \n",
    "                             scoring='neg_mean_squared_error', \n",
    "                             cv=5, \n",
    "                             verbose=5,\n",
    "                             n_jobs=-1, \n",
    "                             return_train_score=True)\n",
    "\n",
    "svm_emissions.fit(X_train, y_train_emissions)"
   ]
  },
  {
   "cell_type": "code",
   "execution_count": 56,
   "metadata": {
    "scrolled": true
   },
   "outputs": [
    {
     "name": "stdout",
     "output_type": "stream",
     "text": [
      "{'C': 10, 'epsilon': 0.1, 'gamma': 1}\n",
      "Mean absolute error (MAE): -1.447367639609423\n"
     ]
    }
   ],
   "source": [
    "print(svm_emissions.best_params_)\n",
    "print('Mean absolute error (MAE):', svm_emissions.best_score_)"
   ]
  },
  {
   "cell_type": "code",
   "execution_count": 57,
   "metadata": {
    "scrolled": true
   },
   "outputs": [
    {
     "name": "stdout",
     "output_type": "stream",
     "text": [
      "Fitting 5 folds for each of 350 candidates, totalling 1750 fits\n"
     ]
    },
    {
     "name": "stderr",
     "output_type": "stream",
     "text": [
      "[Parallel(n_jobs=-1)]: Using backend LokyBackend with 12 concurrent workers.\n",
      "[Parallel(n_jobs=-1)]: Done  48 tasks      | elapsed:    4.5s\n",
      "[Parallel(n_jobs=-1)]: Done 138 tasks      | elapsed:   12.6s\n",
      "[Parallel(n_jobs=-1)]: Done 264 tasks      | elapsed:   20.9s\n",
      "[Parallel(n_jobs=-1)]: Done 522 tasks      | elapsed:   36.9s\n",
      "[Parallel(n_jobs=-1)]: Done 744 tasks      | elapsed:   47.5s\n",
      "[Parallel(n_jobs=-1)]: Done 1056 tasks      | elapsed:  1.1min\n",
      "[Parallel(n_jobs=-1)]: Done 1440 tasks      | elapsed:  1.5min\n",
      "[Parallel(n_jobs=-1)]: Done 1750 out of 1750 | elapsed:  1.9min finished\n"
     ]
    },
    {
     "data": {
      "text/plain": [
       "GridSearchCV(cv=5, estimator=SVR(), n_jobs=-1,\n",
       "             param_grid={'C': [0.001, 0.01, 0.1, 1, 10],\n",
       "                         'epsilon': [0.0001, 0.001, 0.01, 0.1, 1, 2, 5],\n",
       "                         'gamma': [1e-08, 1e-07, 1e-06, 1e-05, 0.0001, 0.001,\n",
       "                                   0.01, 0.1, 1, 10]},\n",
       "             return_train_score=True, scoring='neg_mean_squared_error',\n",
       "             verbose=5)"
      ]
     },
     "execution_count": 57,
     "metadata": {},
     "output_type": "execute_result"
    }
   ],
   "source": [
    "svm_emissions_ES = GridSearchCV(estimator=SVR(), \n",
    "                                param_grid=parameters, \n",
    "                                scoring='neg_mean_squared_error', \n",
    "                                cv=5, \n",
    "                                verbose=5,\n",
    "                                n_jobs=-1, \n",
    "                                return_train_score=True)\n",
    "\n",
    "svm_emissions_ES.fit(X_train_ES, y_train_emissions)"
   ]
  },
  {
   "cell_type": "code",
   "execution_count": 58,
   "metadata": {
    "scrolled": true
   },
   "outputs": [
    {
     "name": "stdout",
     "output_type": "stream",
     "text": [
      "{'C': 10, 'epsilon': 0.1, 'gamma': 1}\n",
      "Mean absolute error (MAE): -1.336341535350757\n"
     ]
    }
   ],
   "source": [
    "print(svm_emissions_ES.best_params_)\n",
    "print('Mean absolute error (MAE):', svm_emissions_ES.best_score_)"
   ]
  },
  {
   "cell_type": "code",
   "execution_count": 59,
   "metadata": {},
   "outputs": [
    {
     "name": "stdout",
     "output_type": "stream",
     "text": [
      "Best r2-score Energy :0.8927\n",
      "Sqrt RMSE Energy : 0.5378\n",
      "Sqrt RMSLE Energy : 0.0247\n",
      "------------------------------\n",
      "Best r2-score Energy (ENERGYSTARScore) :0.9054\n",
      "Sqrt RMSE Energy (ENERGYSTARScore) : 0.5049\n",
      "Sqrt RMSLE Energy (ENERGYSTARScore) : 0.0232\n",
      "------------------------------\n",
      "Best r2-score Emissions :0.7355\n",
      "Sqrt RMSE Emissions : 1.0921\n",
      "Sqrt RMSLE Emissions : 0.2082\n",
      "------------------------------\n",
      "Best r2-score Emissions (ENERGYSTARScore) :0.7551\n",
      "Sqrt RMSE Emissions (ENERGYSTARScore) : 1.0508\n",
      "Sqrt RMSLE Emissions (ENERGYSTARScore) : 0.1948\n",
      "------------------------------\n"
     ]
    }
   ],
   "source": [
    "r2_svr_energy, rmse_svr_energy, rmsle_svr_energy, Y_svr_pred_energy = predict(svm_energy, \n",
    "                                                                              X_train, \n",
    "                                                                              y_train_energy, \n",
    "                                                                              X_test, \n",
    "                                                                              y_test_energy, \n",
    "                                                                              'Energy')\n",
    "\n",
    "r2_svr_energy_ES, rmse_svr_energy_ES, rmsle_svr_energy_ES, Y_svr_pred_energy_ES = predict(svm_energy_ES, \n",
    "                                                                                          X_train_ES, \n",
    "                                                                                          y_train_energy, \n",
    "                                                                                          X_test_ES, \n",
    "                                                                                          y_test_energy, \n",
    "                                                                                          'Energy (ENERGYSTARScore)')\n",
    "\n",
    "r2_svr_emissions, rmse_svr_emissions, rmsle_svr_emissions, Y_svr_pred_emissions = predict(svm_emissions, \n",
    "                                                                                          X_train, \n",
    "                                                                                          y_train_emissions, \n",
    "                                                                                          X_test, \n",
    "                                                                                          y_test_emissions, \n",
    "                                                                                          'Emissions')\n",
    "\n",
    "r2_svr_emissions_ES, rmse_svr_emissions_ES, rmsle_svr_emissions_ES, Y_svr_pred_emissions_ES = predict(svm_emissions_ES, \n",
    "                                                                                                      X_train_ES, \n",
    "                                                                                                      y_train_emissions, \n",
    "                                                                                                      X_test_ES, \n",
    "                                                                                                      y_test_emissions, \n",
    "                                                                                                      'Emissions (ENERGYSTARScore)')"
   ]
  },
  {
   "cell_type": "code",
   "execution_count": 60,
   "metadata": {},
   "outputs": [],
   "source": [
    "df_results = dfResultsSet(df_results, r2_svr_energy, rmse_svr_energy, rmsle_svr_energy, 'SVM', 'energy', 'no')\n",
    "df_results = dfResultsSet(df_results, r2_svr_energy_ES, rmse_svr_energy_ES, rmsle_svr_energy_ES, 'SVM', 'energy', 'yes')\n",
    "df_results = dfResultsSet(df_results, r2_svr_emissions, rmse_svr_emissions, rmsle_svr_emissions, 'SVM', 'emissions', 'no')\n",
    "df_results = dfResultsSet(df_results, r2_svr_emissions_ES, rmse_svr_emissions_ES, rmsle_svr_emissions_ES, 'SVM', 'emissions', 'yes')"
   ]
  },
  {
   "cell_type": "code",
   "execution_count": 61,
   "metadata": {},
   "outputs": [
    {
     "data": {
      "image/png": "[encoded data removed]",
      "text/plain": [
       "<Figure size 360x360 with 1 Axes>"
      ]
     },
     "metadata": {
      "needs_background": "light"
     },
     "output_type": "display_data"
    },
    {
     "data": {
      "image/png": "[encoded data removed]",
      "text/plain": [
       "<Figure size 360x360 with 1 Axes>"
      ]
     },
     "metadata": {
      "needs_background": "light"
     },
     "output_type": "display_data"
    },
    {
     "data": {
      "image/png": "[encoded data removed]",
      "text/plain": [
       "<Figure size 360x360 with 1 Axes>"
      ]
     },
     "metadata": {
      "needs_background": "light"
     },
     "output_type": "display_data"
    },
    {
     "data": {
      "image/png": "[encoded data removed]",
      "text/plain": [
       "<Figure size 360x360 with 1 Axes>"
      ]
     },
     "metadata": {
      "needs_background": "light"
     },
     "output_type": "display_data"
    }
   ],
   "source": [
    "errorOverPrediction('energy', 'no', y_test_energy, Y_svr_pred_energy)\n",
    "errorOverPrediction('energy', 'yes', y_test_energy, Y_svr_pred_energy_ES)\n",
    "errorOverPrediction('emissions', 'no', y_test_emissions, Y_svr_pred_emissions)\n",
    "errorOverPrediction('emissions', 'yes', y_test_emissions, Y_svr_pred_emissions_ES)"
   ]
  },
  {
   "cell_type": "code",
   "execution_count": 62,
   "metadata": {},
   "outputs": [
    {
     "name": "stdout",
     "output_type": "stream",
     "text": [
      "Elapsed Time: 00:26:09.55\n"
     ]
    }
   ],
   "source": [
    "end = time.time()\n",
    "elapsed_time(start, end)"
   ]
  },
  {
   "cell_type": "markdown",
   "metadata": {},
   "source": [
    "### Résultats\n",
    "\n",
    "Nous comparons les modèles sur les critères RMSE et RMSLE."
   ]
  },
  {
   "cell_type": "code",
   "execution_count": 63,
   "metadata": {},
   "outputs": [],
   "source": [
    "# df_results['RMSE_%'] = np.where((df_results.Predict == 'energy') & (df_results.ENERGYSTAR == 'no'),\n",
    "#                                df_results['Score_RMSE'].divide(y_test_energy.mean()),\n",
    "#                                np.where((df_results.Predict == 'energy') & (df_results.ENERGYSTAR == 'yes'), \n",
    "#                                         df_results['Score_RMSE'].divide(y_test_energy_ES.mean()),\n",
    "#                                         np.where((df_results.Predict == 'emissions') & (df_results.ENERGYSTAR == 'no'), \n",
    "#                                                  df_results['Score_RMSE'].divide(y_test_emissions.mean()),\n",
    "#                                                  np.where((df_results.Predict == 'emissions') & (df_results.ENERGYSTAR == 'yes'), \n",
    "#                                                           df_results['Score_RMSE'].divide(y_test_emissions_ES.mean()),\n",
    "#                                                           'error'\n",
    "#                                                          ))))\n",
    "# df_results['RMSE_%'] = df_results['RMSE_%'].astype(float)\n",
    "df_results['CODE'] = df_results['Model']+' '+df_results['Predict']\n",
    "df_results['CODE'] = np.where(df_results.ENERGYSTAR == 'yes', df_results['CODE']+' ES',df_results['CODE'])"
   ]
  },
  {
   "cell_type": "code",
   "execution_count": 64,
   "metadata": {},
   "outputs": [
    {
     "data": {
      "text/html": [
       "<div>\n",
       "<style scoped>\n",
       "    .dataframe tbody tr th:only-of-type {\n",
       "        vertical-align: middle;\n",
       "    }\n",
       "\n",
       "    .dataframe tbody tr th {\n",
       "        vertical-align: top;\n",
       "    }\n",
       "\n",
       "    .dataframe thead th {\n",
       "        text-align: right;\n",
       "    }\n",
       "</style>\n",
       "<table border=\"1\" class=\"dataframe\">\n",
       "  <thead>\n",
       "    <tr style=\"text-align: right;\">\n",
       "      <th></th>\n",
       "      <th>Model</th>\n",
       "      <th>Predict</th>\n",
       "      <th>ENERGYSTAR</th>\n",
       "      <th>Score_R2</th>\n",
       "      <th>Score_RMSE</th>\n",
       "      <th>Score_RMSLE</th>\n",
       "      <th>CODE</th>\n",
       "    </tr>\n",
       "  </thead>\n",
       "  <tbody>\n",
       "    <tr>\n",
       "      <th>0</th>\n",
       "      <td>Linear Regression</td>\n",
       "      <td>energy</td>\n",
       "      <td>no</td>\n",
       "      <td>0.609291</td>\n",
       "      <td>1.026396</td>\n",
       "      <td>0.045543</td>\n",
       "      <td>Linear Regression energy</td>\n",
       "    </tr>\n",
       "    <tr>\n",
       "      <th>1</th>\n",
       "      <td>Linear Regression</td>\n",
       "      <td>energy</td>\n",
       "      <td>yes</td>\n",
       "      <td>0.652965</td>\n",
       "      <td>0.967331</td>\n",
       "      <td>0.042744</td>\n",
       "      <td>Linear Regression energy ES</td>\n",
       "    </tr>\n",
       "    <tr>\n",
       "      <th>2</th>\n",
       "      <td>Linear Regression</td>\n",
       "      <td>emissions</td>\n",
       "      <td>no</td>\n",
       "      <td>0.441369</td>\n",
       "      <td>1.587136</td>\n",
       "      <td>0.303684</td>\n",
       "      <td>Linear Regression emissions</td>\n",
       "    </tr>\n",
       "    <tr>\n",
       "      <th>3</th>\n",
       "      <td>Linear Regression</td>\n",
       "      <td>emissions</td>\n",
       "      <td>yes</td>\n",
       "      <td>0.469671</td>\n",
       "      <td>1.546409</td>\n",
       "      <td>0.295606</td>\n",
       "      <td>Linear Regression emissions ES</td>\n",
       "    </tr>\n",
       "    <tr>\n",
       "      <th>4</th>\n",
       "      <td>Elastic Net</td>\n",
       "      <td>energy</td>\n",
       "      <td>no</td>\n",
       "      <td>0.608555</td>\n",
       "      <td>1.027362</td>\n",
       "      <td>0.045640</td>\n",
       "      <td>Elastic Net energy</td>\n",
       "    </tr>\n",
       "    <tr>\n",
       "      <th>5</th>\n",
       "      <td>Elastic Net</td>\n",
       "      <td>energy</td>\n",
       "      <td>yes</td>\n",
       "      <td>0.652364</td>\n",
       "      <td>0.968168</td>\n",
       "      <td>0.042870</td>\n",
       "      <td>Elastic Net energy ES</td>\n",
       "    </tr>\n",
       "    <tr>\n",
       "      <th>6</th>\n",
       "      <td>Elastic Net</td>\n",
       "      <td>emissions</td>\n",
       "      <td>no</td>\n",
       "      <td>0.441933</td>\n",
       "      <td>1.586335</td>\n",
       "      <td>0.304266</td>\n",
       "      <td>Elastic Net emissions</td>\n",
       "    </tr>\n",
       "    <tr>\n",
       "      <th>7</th>\n",
       "      <td>Elastic Net</td>\n",
       "      <td>emissions</td>\n",
       "      <td>yes</td>\n",
       "      <td>0.470273</td>\n",
       "      <td>1.545531</td>\n",
       "      <td>0.296327</td>\n",
       "      <td>Elastic Net emissions ES</td>\n",
       "    </tr>\n",
       "    <tr>\n",
       "      <th>8</th>\n",
       "      <td>Random Forest</td>\n",
       "      <td>energy</td>\n",
       "      <td>no</td>\n",
       "      <td>0.944979</td>\n",
       "      <td>0.385169</td>\n",
       "      <td>0.017740</td>\n",
       "      <td>Random Forest energy</td>\n",
       "    </tr>\n",
       "    <tr>\n",
       "      <th>9</th>\n",
       "      <td>Random Forest</td>\n",
       "      <td>energy</td>\n",
       "      <td>yes</td>\n",
       "      <td>0.950966</td>\n",
       "      <td>0.363611</td>\n",
       "      <td>0.016677</td>\n",
       "      <td>Random Forest energy ES</td>\n",
       "    </tr>\n",
       "    <tr>\n",
       "      <th>10</th>\n",
       "      <td>Random Forest</td>\n",
       "      <td>emissions</td>\n",
       "      <td>no</td>\n",
       "      <td>0.843530</td>\n",
       "      <td>0.839976</td>\n",
       "      <td>0.171141</td>\n",
       "      <td>Random Forest emissions</td>\n",
       "    </tr>\n",
       "    <tr>\n",
       "      <th>11</th>\n",
       "      <td>Random Forest</td>\n",
       "      <td>emissions</td>\n",
       "      <td>yes</td>\n",
       "      <td>0.847153</td>\n",
       "      <td>0.830196</td>\n",
       "      <td>0.168983</td>\n",
       "      <td>Random Forest emissions ES</td>\n",
       "    </tr>\n",
       "    <tr>\n",
       "      <th>12</th>\n",
       "      <td>SVM</td>\n",
       "      <td>energy</td>\n",
       "      <td>no</td>\n",
       "      <td>0.892745</td>\n",
       "      <td>0.537769</td>\n",
       "      <td>0.024694</td>\n",
       "      <td>SVM energy</td>\n",
       "    </tr>\n",
       "    <tr>\n",
       "      <th>13</th>\n",
       "      <td>SVM</td>\n",
       "      <td>energy</td>\n",
       "      <td>yes</td>\n",
       "      <td>0.905445</td>\n",
       "      <td>0.504930</td>\n",
       "      <td>0.023209</td>\n",
       "      <td>SVM energy ES</td>\n",
       "    </tr>\n",
       "    <tr>\n",
       "      <th>14</th>\n",
       "      <td>SVM</td>\n",
       "      <td>emissions</td>\n",
       "      <td>no</td>\n",
       "      <td>0.735513</td>\n",
       "      <td>1.092079</td>\n",
       "      <td>0.208179</td>\n",
       "      <td>SVM emissions</td>\n",
       "    </tr>\n",
       "    <tr>\n",
       "      <th>15</th>\n",
       "      <td>SVM</td>\n",
       "      <td>emissions</td>\n",
       "      <td>yes</td>\n",
       "      <td>0.755140</td>\n",
       "      <td>1.050777</td>\n",
       "      <td>0.194805</td>\n",
       "      <td>SVM emissions ES</td>\n",
       "    </tr>\n",
       "  </tbody>\n",
       "</table>\n",
       "</div>"
      ],
      "text/plain": [
       "                Model    Predict ENERGYSTAR  Score_R2  Score_RMSE  \\\n",
       "0   Linear Regression     energy         no  0.609291    1.026396   \n",
       "1   Linear Regression     energy        yes  0.652965    0.967331   \n",
       "2   Linear Regression  emissions         no  0.441369    1.587136   \n",
       "3   Linear Regression  emissions        yes  0.469671    1.546409   \n",
       "4         Elastic Net     energy         no  0.608555    1.027362   \n",
       "5         Elastic Net     energy        yes  0.652364    0.968168   \n",
       "6         Elastic Net  emissions         no  0.441933    1.586335   \n",
       "7         Elastic Net  emissions        yes  0.470273    1.545531   \n",
       "8       Random Forest     energy         no  0.944979    0.385169   \n",
       "9       Random Forest     energy        yes  0.950966    0.363611   \n",
       "10      Random Forest  emissions         no  0.843530    0.839976   \n",
       "11      Random Forest  emissions        yes  0.847153    0.830196   \n",
       "12                SVM     energy         no  0.892745    0.537769   \n",
       "13                SVM     energy        yes  0.905445    0.504930   \n",
       "14                SVM  emissions         no  0.735513    1.092079   \n",
       "15                SVM  emissions        yes  0.755140    1.050777   \n",
       "\n",
       "    Score_RMSLE                            CODE  \n",
       "0      0.045543        Linear Regression energy  \n",
       "1      0.042744     Linear Regression energy ES  \n",
       "2      0.303684     Linear Regression emissions  \n",
       "3      0.295606  Linear Regression emissions ES  \n",
       "4      0.045640              Elastic Net energy  \n",
       "5      0.042870           Elastic Net energy ES  \n",
       "6      0.304266           Elastic Net emissions  \n",
       "7      0.296327        Elastic Net emissions ES  \n",
       "8      0.017740            Random Forest energy  \n",
       "9      0.016677         Random Forest energy ES  \n",
       "10     0.171141         Random Forest emissions  \n",
       "11     0.168983      Random Forest emissions ES  \n",
       "12     0.024694                      SVM energy  \n",
       "13     0.023209                   SVM energy ES  \n",
       "14     0.208179                   SVM emissions  \n",
       "15     0.194805                SVM emissions ES  "
      ]
     },
     "execution_count": 64,
     "metadata": {},
     "output_type": "execute_result"
    }
   ],
   "source": [
    "df_results"
   ]
  },
  {
   "cell_type": "code",
   "execution_count": 65,
   "metadata": {},
   "outputs": [
    {
     "data": {
      "image/png": "[encoded data removed]",
      "text/plain": [
       "<Figure size 1080x360 with 1 Axes>"
      ]
     },
     "metadata": {
      "needs_background": "light"
     },
     "output_type": "display_data"
    }
   ],
   "source": [
    "plt.figure(figsize=(15,5))\n",
    "plt.title('RMSE comparison')\n",
    "chrt = sns.barplot(x=df_results['CODE'], y=df_results['Score_RMSE'])\n",
    "chrt.set_xticklabels(labels=df_results['CODE'], rotation=90,)\n",
    "ax = plt.gca()\n",
    "plt.show()"
   ]
  },
  {
   "cell_type": "code",
   "execution_count": 66,
   "metadata": {},
   "outputs": [
    {
     "data": {
      "image/png": "[encoded data removed]",
      "text/plain": [
       "<Figure size 1080x360 with 1 Axes>"
      ]
     },
     "metadata": {
      "needs_background": "light"
     },
     "output_type": "display_data"
    }
   ],
   "source": [
    "plt.figure(figsize=(15,5))\n",
    "plt.title('RMSLE comparison')\n",
    "chrt = sns.barplot(x=df_results['CODE'], y=df_results['Score_RMSLE'])\n",
    "chrt.set_xticklabels(labels=df_results['CODE'], rotation=90,)\n",
    "ax = plt.gca()\n",
    "plt.show()"
   ]
  },
  {
   "cell_type": "markdown",
   "metadata": {},
   "source": [
    "Random Forest et SVM ont les RMSE et RMSLE les plus faibles dans les modèles analysés.\n",
    "\n",
    "\n",
    "Le résultat obtenu avec et sans le ENERGYSTARScore sont similaires (visible dans la colonne Score_R2) sans avantage clair lors des prédictions.\n",
    "\n",
    "Compte-tenu que le Energy Star Score est fastideux à calculer on peut tout à fait l'ignorer lors de la prédiction de la consommation énergétique et les émissions de CO2."
   ]
  },
  {
   "cell_type": "code",
   "execution_count": 67,
   "metadata": {},
   "outputs": [
    {
     "data": {
      "image/png": "[encoded data removed]",
      "text/plain": [
       "<Figure size 432x288 with 1 Axes>"
      ]
     },
     "metadata": {
      "needs_background": "light"
     },
     "output_type": "display_data"
    }
   ],
   "source": [
    "rfr_energy_test = rfr_grid_energy.cv_results_['mean_test_score']\n",
    "rfr_energy_train = rfr_grid_energy.cv_results_['mean_train_score']\n",
    "\n",
    "plt.plot(rfr_energy_test, label='test')\n",
    "plt.plot(rfr_energy_train, label='train')\n",
    "plt.legend(loc='best')\n",
    "plt.show()"
   ]
  },
  {
   "cell_type": "code",
   "execution_count": 68,
   "metadata": {},
   "outputs": [
    {
     "data": {
      "image/png": "[encoded data removed]",
      "text/plain": [
       "<Figure size 432x288 with 1 Axes>"
      ]
     },
     "metadata": {
      "needs_background": "light"
     },
     "output_type": "display_data"
    }
   ],
   "source": [
    "rfr_energy_test_ES = rfr_grid_energy_ES.cv_results_['mean_test_score']\n",
    "rfr_energy_train_ES = rfr_grid_energy_ES.cv_results_['mean_train_score']\n",
    "\n",
    "plt.plot(rfr_energy_test_ES, label='test')\n",
    "plt.plot(rfr_energy_train_ES, label='train')\n",
    "plt.legend(loc='best')\n",
    "plt.show()"
   ]
  },
  {
   "cell_type": "code",
   "execution_count": 69,
   "metadata": {},
   "outputs": [
    {
     "data": {
      "image/png": "[encoded data removed]",
      "text/plain": [
       "<Figure size 432x288 with 1 Axes>"
      ]
     },
     "metadata": {
      "needs_background": "light"
     },
     "output_type": "display_data"
    }
   ],
   "source": [
    "rfr_emissions_test = rfr_grid_emissions.cv_results_['mean_test_score']\n",
    "rfr_emissions_train = rfr_grid_emissions.cv_results_['mean_train_score']\n",
    "\n",
    "plt.plot(rfr_emissions_test, label='test')\n",
    "plt.plot(rfr_emissions_train, label='train')\n",
    "plt.legend(loc='best')\n",
    "plt.show()"
   ]
  },
  {
   "cell_type": "code",
   "execution_count": 70,
   "metadata": {},
   "outputs": [
    {
     "data": {
      "image/png": "[encoded data removed]",
      "text/plain": [
       "<Figure size 432x288 with 1 Axes>"
      ]
     },
     "metadata": {
      "needs_background": "light"
     },
     "output_type": "display_data"
    }
   ],
   "source": [
    "rfr_emissions_test_ES = rfr_grid_emissions_ES.cv_results_['mean_test_score']\n",
    "rfr_emissions_train_ES = rfr_grid_emissions_ES.cv_results_['mean_train_score']\n",
    "\n",
    "plt.plot(rfr_emissions_test_ES, label='test')\n",
    "plt.plot(rfr_emissions_train_ES, label='train')\n",
    "plt.legend(loc='best')\n",
    "plt.show()"
   ]
  },
  {
   "cell_type": "code",
   "execution_count": 71,
   "metadata": {},
   "outputs": [
    {
     "data": {
      "text/plain": [
       "['YearBuilt',\n",
       " 'PropertyGFATotal',\n",
       " 'PropertyGFABuilding(s)',\n",
       " 'LargestPropertyUseTypeGFA',\n",
       " 'Electricity(kBtu)',\n",
       " 'SecondLargestPropertyUseTypeGFA',\n",
       " 'Longitude',\n",
       " 'Latitude',\n",
       " 'Age',\n",
       " 'GFA',\n",
       " 'BuildingType_Multifamily LR (1-4)',\n",
       " 'BuildingType_NonResidential']"
      ]
     },
     "execution_count": 71,
     "metadata": {},
     "output_type": "execute_result"
    }
   ],
   "source": [
    "X_train.columns.to_list()"
   ]
  },
  {
   "cell_type": "code",
   "execution_count": 72,
   "metadata": {},
   "outputs": [
    {
     "data": {
      "text/plain": [
       "['TotalGHGEmissions',\n",
       " 'SiteEnergyUse(kBtu)',\n",
       " 'SiteEnergyUse(kBtu)_log2p',\n",
       " 'TotalGHGEmissions_log2']"
      ]
     },
     "execution_count": 72,
     "metadata": {},
     "output_type": "execute_result"
    }
   ],
   "source": [
    "y.columns.to_list()"
   ]
  }
 ],
 "metadata": {
  "kernelspec": {
   "display_name": "Python 3",
   "language": "python",
   "name": "python3"
  },
  "language_info": {
   "codemirror_mode": {
    "name": "ipython",
    "version": 3
   },
   "file_extension": ".py",
   "mimetype": "text/x-python",
   "name": "python",
   "nbconvert_exporter": "python",
   "pygments_lexer": "ipython3",
   "version": "3.8.8"
  }
 },
 "nbformat": 4,
 "nbformat_minor": 4
}
